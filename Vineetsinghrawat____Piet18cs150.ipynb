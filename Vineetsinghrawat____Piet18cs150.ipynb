{
  "nbformat": 4,
  "nbformat_minor": 0,
  "metadata": {
    "colab": {
      "name": "Vineetsinghrawat __ Piet18cs150.ipynb",
      "provenance": [],
      "collapsed_sections": []
    },
    "kernelspec": {
      "name": "python3",
      "display_name": "Python 3"
    },
    "language_info": {
      "name": "python"
    }
  },
  "cells": [
    {
      "cell_type": "code",
      "metadata": {
        "id": "WVhTssh3q5q1"
      },
      "source": [
        "# Natural Language Processing\n",
        "\n",
        "# Importing the libraries\n",
        "import numpy as np\n",
        "import matplotlib.pyplot as plt\n",
        "import pandas as pd\n"
      ],
      "execution_count": null,
      "outputs": []
    },
    {
      "cell_type": "code",
      "metadata": {
        "colab": {
          "resources": {
            "http://localhost:8080/nbextensions/google.colab/files.js": {
              "data": "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",
              "ok": true,
              "headers": [
                [
                  "content-type",
                  "application/javascript"
                ]
              ],
              "status": 200,
              "status_text": "OK"
            }
          },
          "base_uri": "https://localhost:8080/",
          "height": 74
        },
        "id": "BjfktLhPrdk9",
        "outputId": "fc52a265-dcc2-4d1a-b13b-25203029e4fc"
      },
      "source": [
        "from google.colab import files\n",
        "upload = files.upload()"
      ],
      "execution_count": 9,
      "outputs": [
        {
          "output_type": "display_data",
          "data": {
            "text/html": [
              "\n",
              "     <input type=\"file\" id=\"files-f35ef7ff-8178-4cf8-aeb7-37653c688bde\" name=\"files[]\" multiple disabled\n",
              "        style=\"border:none\" />\n",
              "     <output id=\"result-f35ef7ff-8178-4cf8-aeb7-37653c688bde\">\n",
              "      Upload widget is only available when the cell has been executed in the\n",
              "      current browser session. Please rerun this cell to enable.\n",
              "      </output>\n",
              "      <script src=\"/nbextensions/google.colab/files.js\"></script> "
            ],
            "text/plain": [
              "<IPython.core.display.HTML object>"
            ]
          },
          "metadata": {
            "tags": []
          }
        },
        {
          "output_type": "stream",
          "text": [
            "Saving data.csv to data.csv\n"
          ],
          "name": "stdout"
        }
      ]
    },
    {
      "cell_type": "code",
      "metadata": {
        "id": "gJnhd1Qqrr6g",
        "colab": {
          "base_uri": "https://localhost:8080/"
        },
        "outputId": "2d1ea580-f05c-4f61-955f-999f854df538"
      },
      "source": [
        "input=list(upload.keys())\n",
        "input=input[0]\n",
        "print(input)"
      ],
      "execution_count": 10,
      "outputs": [
        {
          "output_type": "stream",
          "text": [
            "data.csv\n"
          ],
          "name": "stdout"
        }
      ]
    },
    {
      "cell_type": "code",
      "metadata": {
        "id": "IJCxM3Egr2p2",
        "colab": {
          "base_uri": "https://localhost:8080/"
        },
        "outputId": "9a531f94-0ff5-4f15-c6a7-f92ed41338f0"
      },
      "source": [
        "extension= input.split(\".\")\n",
        "print(extension[1])"
      ],
      "execution_count": 11,
      "outputs": [
        {
          "output_type": "stream",
          "text": [
            "csv\n"
          ],
          "name": "stdout"
        }
      ]
    },
    {
      "cell_type": "code",
      "metadata": {
        "id": "s8tNYIKmr3d5",
        "colab": {
          "base_uri": "https://localhost:8080/",
          "height": 206
        },
        "outputId": "8b3be18c-4a42-4697-ea43-9af58320a1c4"
      },
      "source": [
        "#  read the CSV file and look at the first five rows of the data:\n",
        "\n",
        "dataset = pd.read_csv('data.csv')\n",
        "\n",
        "dataset.head()"
      ],
      "execution_count": 12,
      "outputs": [
        {
          "output_type": "execute_result",
          "data": {
            "text/html": [
              "<div>\n",
              "<style scoped>\n",
              "    .dataframe tbody tr th:only-of-type {\n",
              "        vertical-align: middle;\n",
              "    }\n",
              "\n",
              "    .dataframe tbody tr th {\n",
              "        vertical-align: top;\n",
              "    }\n",
              "\n",
              "    .dataframe thead th {\n",
              "        text-align: right;\n",
              "    }\n",
              "</style>\n",
              "<table border=\"1\" class=\"dataframe\">\n",
              "  <thead>\n",
              "    <tr style=\"text-align: right;\">\n",
              "      <th></th>\n",
              "      <th>text</th>\n",
              "      <th>class</th>\n",
              "    </tr>\n",
              "  </thead>\n",
              "  <tbody>\n",
              "    <tr>\n",
              "      <th>0</th>\n",
              "      <td>Now all @Apple has to do is get swype on the i...</td>\n",
              "      <td>1</td>\n",
              "    </tr>\n",
              "    <tr>\n",
              "      <th>1</th>\n",
              "      <td>@Apple will be adding more carrier support to ...</td>\n",
              "      <td>1</td>\n",
              "    </tr>\n",
              "    <tr>\n",
              "      <th>2</th>\n",
              "      <td>Hilarious @youtube video - guy does a duet wit...</td>\n",
              "      <td>1</td>\n",
              "    </tr>\n",
              "    <tr>\n",
              "      <th>3</th>\n",
              "      <td>@RIM you made it too easy for me to switch to ...</td>\n",
              "      <td>1</td>\n",
              "    </tr>\n",
              "    <tr>\n",
              "      <th>4</th>\n",
              "      <td>I just realized that the reason I got into twi...</td>\n",
              "      <td>1</td>\n",
              "    </tr>\n",
              "  </tbody>\n",
              "</table>\n",
              "</div>"
            ],
            "text/plain": [
              "                                                text  class\n",
              "0  Now all @Apple has to do is get swype on the i...      1\n",
              "1  @Apple will be adding more carrier support to ...      1\n",
              "2  Hilarious @youtube video - guy does a duet wit...      1\n",
              "3  @RIM you made it too easy for me to switch to ...      1\n",
              "4  I just realized that the reason I got into twi...      1"
            ]
          },
          "metadata": {
            "tags": []
          },
          "execution_count": 12
        }
      ]
    },
    {
      "cell_type": "code",
      "metadata": {
        "id": "HxMBtXV-r92p",
        "colab": {
          "base_uri": "https://localhost:8080/"
        },
        "outputId": "74cd9547-5b41-4bac-c968-c3ab40086b48"
      },
      "source": [
        "print(dataset)"
      ],
      "execution_count": 13,
      "outputs": [
        {
          "output_type": "stream",
          "text": [
            "                                                  text  class\n",
            "0    Now all @Apple has to do is get swype on the i...      1\n",
            "1    @Apple will be adding more carrier support to ...      1\n",
            "2    Hilarious @youtube video - guy does a duet wit...      1\n",
            "3    @RIM you made it too easy for me to switch to ...      1\n",
            "4    I just realized that the reason I got into twi...      1\n",
            "..                                                 ...    ...\n",
            "474  Houston we have a problem!! My iPad has been r...      0\n",
            "475  #Siri went down for a little while last night....      0\n",
            "476  @ford should have teamed up with @Apple instea...      0\n",
            "477  RT @gdcurry: Really @Apple?  What have you don...      0\n",
            "478                                DAMN YOU !!! @apple      0\n",
            "\n",
            "[479 rows x 2 columns]\n"
          ],
          "name": "stdout"
        }
      ]
    },
    {
      "cell_type": "code",
      "metadata": {
        "id": "S56tf-DjsAfH",
        "colab": {
          "base_uri": "https://localhost:8080/"
        },
        "outputId": "03676f75-c9db-4751-9535-5e5f7c7f4c56"
      },
      "source": [
        "dataset.shape[0]"
      ],
      "execution_count": 14,
      "outputs": [
        {
          "output_type": "execute_result",
          "data": {
            "text/plain": [
              "479"
            ]
          },
          "metadata": {
            "tags": []
          },
          "execution_count": 14
        }
      ]
    },
    {
      "cell_type": "code",
      "metadata": {
        "id": "IBgu6Z3JslWh",
        "colab": {
          "base_uri": "https://localhost:8080/"
        },
        "outputId": "d374f051-3f98-469c-a7cf-ec560f2cb5fc"
      },
      "source": [
        "#Print Information about data\n",
        "dataset.info()"
      ],
      "execution_count": 15,
      "outputs": [
        {
          "output_type": "stream",
          "text": [
            "<class 'pandas.core.frame.DataFrame'>\n",
            "RangeIndex: 479 entries, 0 to 478\n",
            "Data columns (total 2 columns):\n",
            " #   Column  Non-Null Count  Dtype \n",
            "---  ------  --------------  ----- \n",
            " 0   text    479 non-null    object\n",
            " 1   class   479 non-null    int64 \n",
            "dtypes: int64(1), object(1)\n",
            "memory usage: 7.6+ KB\n"
          ],
          "name": "stdout"
        }
      ]
    },
    {
      "cell_type": "code",
      "metadata": {
        "id": "CkXIa7MLsnju",
        "colab": {
          "base_uri": "https://localhost:8080/"
        },
        "outputId": "51c2cf65-5ff9-4add-effd-335cc69e9618"
      },
      "source": [
        "#Data types of Columns\n",
        "types = dataset.dtypes\n",
        "print(types)"
      ],
      "execution_count": 16,
      "outputs": [
        {
          "output_type": "stream",
          "text": [
            "text     object\n",
            "class     int64\n",
            "dtype: object\n"
          ],
          "name": "stdout"
        }
      ]
    },
    {
      "cell_type": "code",
      "metadata": {
        "id": "4_xR55axsu4L",
        "colab": {
          "base_uri": "https://localhost:8080/"
        },
        "outputId": "97099699-2d65-4ee4-bebe-9a420123fc25"
      },
      "source": [
        "#Count total number of classes in Data\n",
        "class_counts = dataset.groupby('class').size()\n",
        "print(class_counts)"
      ],
      "execution_count": 17,
      "outputs": [
        {
          "output_type": "stream",
          "text": [
            "class\n",
            "0    316\n",
            "1    163\n",
            "dtype: int64\n"
          ],
          "name": "stdout"
        }
      ]
    },
    {
      "cell_type": "code",
      "metadata": {
        "id": "QREuljRTs_cl",
        "colab": {
          "base_uri": "https://localhost:8080/"
        },
        "outputId": "f7414dd0-85c3-498e-a96e-e9ebab124669"
      },
      "source": [
        "#Count total number of classes in Data\n",
        "class_counts = dataset.groupby('text').size()\n",
        "print(class_counts)"
      ],
      "execution_count": 18,
      "outputs": [
        {
          "output_type": "stream",
          "text": [
            "text\n",
            "! Currently learning Mandarin for my upcoming trip to Hong Kong. I gotta hand it to @Apple iPhones & their uber useful flashcard apps           1\n",
            "#10twitterpeopleiwouldliketomeet @coollike @TheGadgetShow  @thelittleappkid @Jon4Lakers @BenRubery @Apple @twitter @FXhomeHitFilm  (-2)         1\n",
            "#DontBeMadAtMeBecause #Android is by far better than @Apple                                                                                     1\n",
            "#Siri now knows who my dad mom brother and girlfriend is.  Thanks @apple                                                                        1\n",
            "#Siri went down for a little while last night. Come on @apple! Get your shit together on this launch!                                           1\n",
            "                                                                                                                                               ..\n",
            "ugh! @apple youre reservation page for the iPhone is NOT working.                                                                               1\n",
            "what is going on with all my @Apple products?! First my #iPad freezes (still is frozen) and then my #iPhone won't turn on!!! #techieTroubles    1\n",
            "why the fuck dose my phone decide its just ganna freeze every time i try to update it so fucking sick of @apple                                 1\n",
            "yo @apple this update is a disaster                                                                                                             1\n",
            "you are so blessed. @apple                                                                                                                      1\n",
            "Length: 479, dtype: int64\n"
          ],
          "name": "stdout"
        }
      ]
    },
    {
      "cell_type": "code",
      "metadata": {
        "id": "HDkDbLUVtNm9",
        "colab": {
          "base_uri": "https://localhost:8080/",
          "height": 281
        },
        "outputId": "bba825b7-d46c-4d31-ae93-38f1bd1eaf00"
      },
      "source": [
        "# Histogram plot\n",
        "from matplotlib import pyplot\n",
        "dataset.hist()\n",
        "pyplot.show()"
      ],
      "execution_count": 19,
      "outputs": [
        {
          "output_type": "display_data",
          "data": {
            "image/png": "[encoded data removed]",
            "text/plain": [
              "<Figure size 432x288 with 1 Axes>"
            ]
          },
          "metadata": {
            "tags": [],
            "needs_background": "light"
          }
        }
      ]
    },
    {
      "cell_type": "code",
      "metadata": {
        "id": "x1chLiKxtPlp",
        "colab": {
          "base_uri": "https://localhost:8080/",
          "height": 116
        },
        "outputId": "ee0d7fff-677d-4ecf-fc6c-2841450b5cbe"
      },
      "source": [
        "#Density Plot\n",
        "dataset.plot(kind='density' ,subplots=True, layout=(3,3), sharex=False)\n",
        "pyplot.show()"
      ],
      "execution_count": 20,
      "outputs": [
        {
          "output_type": "display_data",
          "data": {
            "image/png": "[encoded data removed]",
            "text/plain": [
              "<Figure size 432x288 with 9 Axes>"
            ]
          },
          "metadata": {
            "tags": [],
            "needs_background": "light"
          }
        }
      ]
    },
    {
      "cell_type": "code",
      "metadata": {
        "id": "Tj8kWDiZtRNX",
        "colab": {
          "base_uri": "https://localhost:8080/"
        },
        "outputId": "ca12b83b-cc55-40a1-f322-faee24c4dee4"
      },
      "source": [
        "\n",
        "#Finding missing values\n",
        "dataset.isnull().sum()"
      ],
      "execution_count": 21,
      "outputs": [
        {
          "output_type": "execute_result",
          "data": {
            "text/plain": [
              "text     0\n",
              "class    0\n",
              "dtype: int64"
            ]
          },
          "metadata": {
            "tags": []
          },
          "execution_count": 21
        }
      ]
    },
    {
      "cell_type": "code",
      "metadata": {
        "id": "DH18jERYtTrs"
      },
      "source": [
        "# Removing index column\n",
        "dataset = dataset.dropna()\n",
        "dataset.reset_index(inplace = True) \n",
        "dataset = dataset.drop(['index'], axis = 1) \n"
      ],
      "execution_count": 22,
      "outputs": []
    },
    {
      "cell_type": "code",
      "metadata": {
        "id": "31QZ1zP8tV8o"
      },
      "source": [
        "text=dataset.loc[0][0]"
      ],
      "execution_count": 25,
      "outputs": []
    },
    {
      "cell_type": "code",
      "metadata": {
        "id": "2p76PbJxtczB",
        "colab": {
          "base_uri": "https://localhost:8080/"
        },
        "outputId": "cdf6576b-aec3-4490-b1d3-a61fce9a7d32"
      },
      "source": [
        "# First step: cleaning Text and removing number and punctuation marks.\n",
        "import re\n",
        "review = re.sub('[^a-zA-Z]', ' ', dataset['text'][0])\n",
        "print(text)\n",
        "print('-------------------------------------------------')\n",
        "print('Review after removing number and punctuation marks. ')\n",
        "print(review)"
      ],
      "execution_count": 24,
      "outputs": [
        {
          "output_type": "stream",
          "text": [
            "Now all @Apple has to do is get swype on the iphone and it will be crack. Iphone that is\n",
            "-------------------------------------------------\n",
            "Review after removing number and punctuation marks. \n",
            "Now all  Apple has to do is get swype on the iphone and it will be crack  Iphone that is\n"
          ],
          "name": "stdout"
        }
      ]
    },
    {
      "cell_type": "code",
      "metadata": {
        "id": "eF1fEMjvtiIF",
        "colab": {
          "base_uri": "https://localhost:8080/"
        },
        "outputId": "dc2ba91b-471c-48eb-84fc-76da3a24f16e"
      },
      "source": [
        "# Second  step: converting text into lower case.\n",
        "review=review.lower()\n",
        "print(text)\n",
        "print('-------------------------------------------------')\n",
        "print('Text after convering into lower case')\n",
        "print(review)"
      ],
      "execution_count": 26,
      "outputs": [
        {
          "output_type": "stream",
          "text": [
            "Now all @Apple has to do is get swype on the iphone and it will be crack. Iphone that is\n",
            "-------------------------------------------------\n",
            "Text after convering into lower case\n",
            "now all  apple has to do is get swype on the iphone and it will be crack  iphone that is\n"
          ],
          "name": "stdout"
        }
      ]
    },
    {
      "cell_type": "code",
      "metadata": {
        "id": "atpa4g2Itt51",
        "colab": {
          "base_uri": "https://localhost:8080/"
        },
        "outputId": "cbc3fb74-7a97-4c13-8f41-73a42820e7aa"
      },
      "source": [
        "# Third step: Removing stop words like 'this, the'\n",
        "import nltk\n",
        "nltk.download('stopwords')\n",
        "from nltk.corpus import stopwords\n",
        "review = review.split()\n",
        "print(review)"
      ],
      "execution_count": 27,
      "outputs": [
        {
          "output_type": "stream",
          "text": [
            "[nltk_data] Downloading package stopwords to /root/nltk_data...\n",
            "[nltk_data]   Unzipping corpora/stopwords.zip.\n",
            "['now', 'all', 'apple', 'has', 'to', 'do', 'is', 'get', 'swype', 'on', 'the', 'iphone', 'and', 'it', 'will', 'be', 'crack', 'iphone', 'that', 'is']\n"
          ],
          "name": "stdout"
        }
      ]
    },
    {
      "cell_type": "code",
      "metadata": {
        "id": "xhu1ZPKRtvV8",
        "colab": {
          "base_uri": "https://localhost:8080/"
        },
        "outputId": "04cf7dce-9474-4511-ecf5-f78ed42e0109"
      },
      "source": [
        "# Third step: Removing stop words like 'this, the'\n",
        "# set function is generally used for long article to fasten process\n",
        "review1 = [word for word in review if not word in set(stopwords.words('english'))]\n",
        "print('Text after removing stop words')\n",
        "print(review1)"
      ],
      "execution_count": 28,
      "outputs": [
        {
          "output_type": "stream",
          "text": [
            "Text after removing stop words\n",
            "['apple', 'get', 'swype', 'iphone', 'crack', 'iphone']\n"
          ],
          "name": "stdout"
        }
      ]
    },
    {
      "cell_type": "code",
      "metadata": {
        "id": "l063HghitxU1",
        "colab": {
          "base_uri": "https://localhost:8080/"
        },
        "outputId": "215f5aab-3e17-4f18-9745-97e654aab27e"
      },
      "source": [
        "# Fourth step: converting stemming words\n",
        "from nltk.stem.porter import PorterStemmer\n",
        "ps = PorterStemmer()\n",
        "review = [ps.stem(word) for word in review1 if not word in set(stopwords.words('english'))]\n",
        "print('After converting stemmer words')\n",
        "print(review)\n"
      ],
      "execution_count": 29,
      "outputs": [
        {
          "output_type": "stream",
          "text": [
            "After converting stemmer words\n",
            "['appl', 'get', 'swype', 'iphon', 'crack', 'iphon']\n"
          ],
          "name": "stdout"
        }
      ]
    },
    {
      "cell_type": "code",
      "metadata": {
        "id": "JwcCpqegtzkD",
        "colab": {
          "base_uri": "https://localhost:8080/"
        },
        "outputId": "8a1e233e-13d5-4286-e98c-e581f2d0f3c4"
      },
      "source": [
        "# joining these words of list\n",
        "review2 = ' '.join(review)\n",
        "\n",
        "print(review2)"
      ],
      "execution_count": 30,
      "outputs": [
        {
          "output_type": "stream",
          "text": [
            "appl get swype iphon crack iphon\n"
          ],
          "name": "stdout"
        }
      ]
    },
    {
      "cell_type": "code",
      "metadata": {
        "id": "qDUA51cHt1bH",
        "colab": {
          "base_uri": "https://localhost:8080/"
        },
        "outputId": "177c61b6-2e60-4508-8acc-a8aca6308191"
      },
      "source": [
        "# Creating the Bag of Words model\n",
        "corpus1 = []\n",
        "from sklearn.feature_extraction.text import CountVectorizer\n",
        "cv = CountVectorizer(max_features = 1500)\n",
        "print(review2)\n",
        "corpus1.append(review2)\n",
        "print(corpus1)\n",
        "X = cv.fit_transform(corpus1)\n",
        "print(X)\n"
      ],
      "execution_count": 31,
      "outputs": [
        {
          "output_type": "stream",
          "text": [
            "appl get swype iphon crack iphon\n",
            "['appl get swype iphon crack iphon']\n",
            "  (0, 0)\t1\n",
            "  (0, 2)\t1\n",
            "  (0, 4)\t1\n",
            "  (0, 3)\t2\n",
            "  (0, 1)\t1\n"
          ],
          "name": "stdout"
        }
      ]
    },
    {
      "cell_type": "code",
      "metadata": {
        "id": "iWtnnD5Mt3tU",
        "colab": {
          "base_uri": "https://localhost:8080/"
        },
        "outputId": "b08034df-02a2-49ee-bbf2-f1c2c0acea27"
      },
      "source": [
        "# Cleaning the texts for all review using for loop\n",
        "import re\n",
        "import nltk\n",
        "nltk.download('stopwords')\n",
        "from nltk.corpus import stopwords\n",
        "from nltk.stem.porter import PorterStemmer\n",
        "corpus = []\n",
        "for i in range(0, dataset.shape[0]):\n",
        "    review = re.sub('[^a-zA-Z]', ' ', dataset.iloc[:,0][i])\n",
        "    review = review.lower()\n",
        "    review = review.split()\n",
        "    ps = PorterStemmer()\n",
        "    review = [ps.stem(word) for word in review if not word in set(stopwords.words('english'))]\n",
        "    review = ' '.join(review)\n",
        "    print(review)\n",
        "    corpus.append(review)"
      ],
      "execution_count": 32,
      "outputs": [
        {
          "output_type": "stream",
          "text": [
            "[nltk_data] Downloading package stopwords to /root/nltk_data...\n",
            "[nltk_data]   Package stopwords is already up-to-date!\n",
            "appl get swype iphon crack iphon\n",
            "appl ad carrier support iphon announc\n",
            "hilari youtub video guy duet appl siri pretti much sum love affair http co exbnqji\n",
            "rim made easi switch appl iphon see ya\n",
            "realiz reason got twitter io thank appl\n",
            "current blackberri user littl bit disappoint move android appl iphon\n",
            "strangest thing siri said far sooo glad appl gave siri sens humor http co twaeudbp via happyplac\n",
            "great close person event appl tonight regent st store\n",
            "compani experi best custom servic asid zappo appl\n",
            "appli job appl hope call lol\n",
            "rt jamaicanidl lmao think appl onto someth magic die haha siri suggest find whore h\n",
            "lmao think appl onto someth magic die haha siri suggest find whore hide bodi lolol\n",
            "rt philliprowntre regist appl develop hope actual help greatli appreci\n",
            "wow great deal refurb ipad first gen model rt appl offer great deal refurbish st gen ipad http co ukwokbgd appl\n",
            "regist appl develop hope actual help greatli appreci\n",
            "current learn mandarin upcom trip hong kong gotta hand appl iphon uber use flashcard app\n",
            "come dark side gretcheneclark hey appl send free iphon publicli ceremoni burn blackberri\n",
            "hey appl send free iphon version publicli ceremoni burn blackberri\n",
            "thank appl find mac locat wipe stolen air smallvictori thievingbastard\n",
            "thank appl covent garden geniusbar replac macbook keyboard crack wristpad lunch break today warranti\n",
            "dailydealchat appl thank\n",
            "ipad replac bound playbook n f l team http co uxawkwf appl nytim\n",
            "appl good ipad\n",
            "appl siri eff amaz\n",
            "amaz new appl io featur http co jatfvfpm\n",
            "rt triplingo one featur educ app appl websit today sweet http co ywvbe z\n",
            "one featur educ app appl websit today sweet http co ywvbe z\n",
            "want someth done right go appl useless day yourdaysarenumb\n",
            "unexpect workshop iphon appl yesterday got awesom amount info notjustaboutthephon gamerchik\n",
            "lt io appl\n",
            "rt appl question bro rt ainteeentrippin get di iphon evo\n",
            "rt imightbewrong peopl bitch iphon think smartest phone ever happi\n",
            "peopl bitch iphon think smartest phone ever happi way go appl\n",
            "twitter ceo point appl corpor mentor io signup tripl http co gci iphn\n",
            "bu iphon thxx appl\n",
            "aze v appl umber appstor well done itun mobil devic talk desktop app\n",
            "nytim coach want see bring ipad http co j ftieng ipad appl set red red hut hut nfl wish ipad\n",
            "appl jiliv danielpink appl sell million iphon unit first weekend steve job brillianc live ever iphon rva\n",
            "bkad apolog appl\n",
            "appl download io prove popular user http co nshlfiux\n",
            "lmfao look argument siri ijustin appl http co vjl si\n",
            "incred million iphon ss day better iphon http co fmjxtmm appl iphon\n",
            "save hp unwant os help buy iphon seen light lol http co gup acz backchannel appl\n",
            "well appl fix io batteri drain problem replac iphon work like champ\n",
            "current order brand new macbook pro bahhh macbook year old miss time cc appl\n",
            "bless appl\n",
            "siri know dad mom brother girlfriend thank appl\n",
            "well least appl store amaz call wait music need\n",
            "sweet appl replac glass probono thank appl\n",
            "bad appl sell million iphon debut weekend bloomberg http co avsl ygu smartphon sm rt vinodrad\n",
            "love new technolog appl iphon mac air icloud unreal technolog\n",
            "love new io updat appl\n",
            "anoth mention appl store http co fiioapkt rt floridamik get great custom servic appl store\n",
            "time go get iphon look forward stick man longer pay text thank appl\n",
            "hey appl hate comput need mack wanna send free one\n",
            "thank appl new gf iphon great everyth\n",
            "icloud set flawless work like champ cloud appl\n",
            "wisconsin mommi appl total email compani alway get great servic appl store\n",
            "appl love new io upgrad iphon\n",
            "nice appl tech support guy fix itouch\n",
            "get great custom servic appl store millenia mall\n",
            "io faster ipad appl\n",
            "love appl imac even though seen hubbi day geek\n",
            "make switch android appl iphon iphon smartphon stevejob appl store http co kj pjvkh\n",
            "thank incred peopl appl go beyond offer replac water damag macbook pro wow\n",
            "play man love camera iphon well done appl fb http co tmdfqre\n",
            "yeah appl io readinglist chang life nowicanspendevenmoretimeonmyphon\n",
            "appl safari reader own worldwid web\n",
            "love appl servic case crack x go hand case walk\n",
            "twitterpeopleiwouldliketomeet coollik thegadgetshow thelittleappkid jon laker benruberi appl twitter fxhomehitfilm\n",
            "said laid next year appl job last iphon iphon iphon g magic http co dxxklubp\n",
            "kind excit way last class right go appl store buy macosc snow leopard lion\n",
            "use blackberri yr disrupt lost gig thx servic im move appl iphon\n",
            "appl sell million iphon day appl keep well http co zzc w\n",
            "yessss lovin iphon updat especi slide bar top screen good job appl\n",
            "million weekend iphon per second mad appl\n",
            "appl got invest macbook pro next year time get sell android gear\n",
            "iancollinsuk appl like\n",
            "sent grandma post card use cardsapp thank appl\n",
            "sorri blackberri move appl\n",
            "kostatsetseka appl put wash kind equival blend glad hear still aliv\n",
            "launder ari iphon finest moment dri bag organ rice day boot appl\n",
            "bravo appl http co bgotzj k\n",
            "god bless youtub appl appletv bad ass system love princessofchina gb coldplay rihanna\n",
            "twitter day smash iphon appl nice gave new one\n",
            "thank appl io email pop lock screen open unlock\n",
            "one word wow rt jldavid iphon first weekend sale top four million http co zx pw gt via appl\n",
            "good iphon well today thank god appl\n",
            "rt mn nova love io easter egg pull middl top bottom see pull awesom littl featur io appl\n",
            "love io easter egg pull middl top bottom see pull awesom littl featur io appl\n",
            "love io easter egg pull middl top bottom see pull awesom littl featur appl lovemyiphon\n",
            "updat io start use cloud servic pretti bad ass appl iphon gs still champ\n",
            "gone run beauti morn man love io appl iphon\n",
            "appl simpli best\n",
            "must admit appl made happi camper text tone lol ring tone makemeproud drake ver text tone nicki\n",
            "day thank great custom servic receiv today appl via phone cs new phone way daysofgr\n",
            "appl replac phone free\n",
            "love new ipod updat appl\n",
            "alexlindsay wife upgrad iphon think siri alon worth upgrad look forward appl continu enhanc siri\n",
            "rt tomkeen thx instagram thx appl hypo tri x http co bppjwncp\n",
            "stevejob honor tonit appl truli great loss world miss\n",
            "thx instagram thx appl hypo tri x http co eejhbt\n",
            "love new iphon thank appl io\n",
            "love much thank appl http co ui loezx\n",
            "appl iphon great geniu\n",
            "appl card app notifi card sent arriv local post offic deliv today sunday truli magic\n",
            "love new appl updat think get better somehow simplifi life right appl\n",
            "appl siri amaz\n",
            "rygurl need appl iphon siri\n",
            "meet siri new iphon butler click link amaz http co lvffdcel appl\n",
            "use work pc never ever get feel worst speaker ever appl spoil imamac\n",
            "appl http co iaa\n",
            "appl got new io upgrad imessag good luck surviv blackberri\n",
            "love io awesom appl\n",
            "rt mattyriesz kathrynye right iphon must addict welcom appl club\n",
            "thank appl innov exhibit guy play facetim instead watch game sport bar http co ou k ge\n",
            "blackberri boo hiss appl wuhu berri power technolog actual work\n",
            "appl far best ipod first time iphon ever good job guy\n",
            "thank steve appl store th av http co nsaisrip\n",
            "appl siri witchcraft next googleresearch yr lead lost\n",
            "appl io sweet notif phone search cover mail wifi sync icloud backup integr twitter well done\n",
            "rt katebett anoth great jame stewart stori today ny time import architectur appl retail success http\n",
            "anoth great jame stewart stori today ny time import architectur appl retail success http co kniz\n",
            "lt appl http co ondxwper\n",
            "welcom twitter world markstuv due io appl thank guy\n",
            "impress servic appl geniu bar metro centr power cabl replac free n book screen replac free\n",
            "rt deb lavoy nice guy appl store replac phone grati show hairlin crack screen thank appl\n",
            "nice guy appl store replac phone grati show hairlin crack screen thank appl\n",
            "iphon batteri last longer day happen sinc edg iphon nice job appl\n",
            "would taken min write blackberri thank u appl convert show grass greener\n",
            "rt herahussain rickysinghpt got new backsid eye phone v impress appl\n",
            "rickysinghpt got new backsid eye phone v impress appl\n",
            "iphon space http co jinnhvwz amaz creativ appl product inspir peopl unbeliev thing\n",
            "thank appl make ipad feel like new new io\n",
            "ibertaddigit tv ipad briliant stevejob produck http co ohfli appl present http co dbbwsdpx\n",
            "use awsom ipad love love macbook ipod amaz love appl\n",
            "appl io upgrad done much better featur featur requir\n",
            "new io updat best ilovey appl\n",
            "final got iphon thank appl stupid att learn lesson\n",
            "absolut love iphon thank steve appl\n",
            "appl invent product actual get brother call parent get go amaz siri ipod\n",
            "dammit listen siri make want upgrad well play appl\n",
            "creat new folder within photo album io final thank appl thorn side newfeatur\n",
            "video card kimari workstat die six month long hp hello appl\n",
            "blackberri facebook u r realli make throw blackberri trash get appl iphon facebook upload issu\n",
            "io updat submit appl thank support\n",
            "awesom servic appl store pc thank chri\n",
            "rt ne appl thank fix http co wtj ogdo\n",
            "crazi io photo crop best appl\n",
            "appl thank fix http co wtj ogdo\n",
            "hell ye got contact back thank appl\n",
            "rt sawyerhartman fu king love appl phone best thing ever siri best thing ever made\n",
            "appl chang life\n",
            "mad prop appl employe charg replac back plate iphon made day\n",
            "jonsibley actual appl mous pretti sweet man\n",
            "iphon amaz siri voic recognit absolut step previou attempt bravo appl\n",
            "final got appl iphon thank sprint get time\n",
            "io nice thank appl\n",
            "good support fm kevin appl bellevu store biz custom ty\n",
            "download io better expect thankyou appl\n",
            "wow love new appl updat touch cool well done\n",
            "appl siri amaz love\n",
            "love love love io appl\n",
            "rt cjwallac appar appl put mb cap sm new updat mb storag tell inbox full w\n",
            "rt jewelz mashabl appl iphon r expens went w htc galaxi custom loyalti w phone comp\n",
            "mashabl appl iphon r expens went w htc galaxi custom loyalti w phone comp\n",
            "kill appl http co jw z c rip appl\n",
            "appl tune go iphon iphon lone without silli io\n",
            "appl need hurri releas itunesmatch\n",
            "siri alway appl\n",
            "need exchang cord appl store wait geniu appl\n",
            "appl airdrop fail immedi declin request everi time\n",
            "good articl appl fuck lion futur http co zndp vr fb\n",
            "rt radlerc yellowg iphon user complain yellow tint screen http co uaqrxtnk appl iphon\n",
            "yellowg iphon user complain yellow tint screen http co uaqrxtnk appl iphon\n",
            "one iphon featur still miss sinc appl first show contact pictur contact list simpl yet major updat miss\n",
            "ask siri dream electr sleep disappoint snippi answer miss opportun appl\n",
            "paulen surpris appl throw error alert author author comput button\n",
            "lisa mari shhhh evil sith lord appl may hear ha\n",
            "fuck appl die fuck blaze inferno\n",
            "oh appl steve obvious noth iphoto perfect opposit insan great get fix pleas\n",
            "omg appl fuck delet music dick\n",
            "ryanbaldwin appl itun go store gt authoris auto authoris sign itun grrrr\n",
            "serious absolut of clue appl mean author\n",
            "boy could appl make harder put purchas music cloud new macbook pro must author comput\n",
            "shit shit shit io updat ate app data media like appl said would go take time rebuild\n",
            "appl u cannot tell least gb iphon la vega give fuck break\n",
            "love appl download hour pad wonki ripstevejob thenonsensepersist neednewipadguid fatfuckingch\n",
            "dear appl new air notbook sinc updat kill wifi bug destroy product\n",
            "done att appl profit lack custom servic fuck\n",
            "would great appl would send new phone frustrat\n",
            "appl thank ruin gs io turn phone utterli useless pile shit\n",
            "rogerweir option replac iphon sure want one duff iphon iphon appl\n",
            "appar appl put mb cap sm new updat mb storag tell inbox full\n",
            "know appl almost week sinc paid itun match would realli like use eta fix\n",
            "remov appl shit\n",
            "phoenixswing iphon give hella hard time w io updat appl\n",
            "suck hello appl rt phonedog aaron interest note droid razr batteri remov\n",
            "appl send iphon preorder hr launch can send jackass want shoot blend em\n",
            "gotta say appl itouch iphon shuffl etc sound qualiti aw pain crap downgrad soni sound qualiti wise\n",
            "bisquiat appl upgrad slow phone much stuck half time uch thank damag suck\n",
            "mayati think appl thorough job step x step upgrad move icloud cost mightili\n",
            "hey appl io iphon includ song compil album artist name whaddupwitdat\n",
            "nickthefnicon send rcve txt apt appl pm exclaim wait whole year phone lmao\n",
            "total chao appl store regent street like ethiopian feed station believ co make cool shit\n",
            "fishmama made purchas wait appl survey hate go b c bad custserv\n",
            "correct best buy kudo chri alamo ranch tx fix issu resolv day w att appl hero day\n",
            "phxguy appl bgr ppl stand line hr get newest model sucker\n",
            "would kill appl put braill type bump earbud know bud r l dark\n",
            "appl wow motorola crush dream\n",
            "rt phxguy oh fuck appl alreadi gt iphon schedul summer launch http co ofh ptag via bgr\n",
            "oh fuck appl alreadi gt iphon schedul summer launch http co ofh ptag via bgr\n",
            "appl wait thursday avail appoint geniu tell shit luck\n",
            "wtf appl new io allow get push notif newstand siri keep yap fuck\n",
            "appl ipad io messag icon includ use\n",
            "steelo yea pre order appl sorri like\n",
            "interest appl requir reserv appl iphon http co zzk ftii\n",
            "appl iphon batteri crappi fail\n",
            "appl macbook keyboard type\n",
            "appl icloud sync sticki alway around noth everi progress w appl gruber\n",
            "appl new save version function page absolut aw interrupt counter intuit piec crap world\n",
            "hate appl comput that dollar drain\n",
            "appl iphon charg slowli\n",
            "appl io gm ipad slow wash better beta solv problem give ipad\n",
            "appl wish could pick month day year set new calendar item iphon new io fix yet\n",
            "appl itun worst program ever great phone make aw softwar\n",
            "one would think voic recognit appl tech support line would work littl better\n",
            "appl repair ipad appl lost year android come\n",
            "aze v appl umber proper consolid proper sync stop lose purchas item checkbox think\n",
            "asimrang appl umber desktop app wack though\n",
            "made reserv yet still wait line humpt oh appl appl store w other http co jzmvbdnm\n",
            "frustrat bought new macbook pro appl find doesnt ship media expensivepaperweight\n",
            "dear appl turn awesom featur enabl data plan handl mb data\n",
            "dontbemadatmebecaus android far better appl\n",
            "appl problem io prevent audio app audio function oper properli keep lose sound\n",
            "appl appl one thing hater mous butteri finish fast happi macworld macworld http co uh vt\n",
            "hey appl stop send automat depreci iphon older signal iphon die rapidli processor wise\n",
            "thing bad new canon camera two compact flash card one sd sd goe appl comput damn\n",
            "wtf appl page new term condit u updat ur app itun store u realli think read em realli\n",
            "fuck u appl\n",
            "oh prolli ganna late work bc appl screw phone alarm\n",
            "fuck dose phone decid ganna freez everi time tri updat fuck sick appl\n",
            "u need text wait u wont get cuz appl fuck everi time fuckingpiss\n",
            "imessag show time messag sent annoy appl\n",
            "like appl da fuck shit http co nb dhlsg\n",
            "rt circustk wit chu shaydiddi offici boycot up call appl curs next use wast\n",
            "damn appl whatchu done phone\n",
            "samsung seek iphon ban japan australiapat war intensifi injunct sought appl http co qmwjtvnk\n",
            "appl everi time io softwar updat ipad goe dead need total restor fail\n",
            "appl io noth pain ass room music photo app undo garbag\n",
            "appl reserv system work show product avail let alon iphon site open browser pm noth\n",
            "rt reddeersteph joelplan appl hear troubl even turn bright andshuttingdownru\n",
            "joelplan appl hear troubl even turn bright andshuttingdownrunningprogram nohelp\n",
            "albertm rememb appl evil icloud enter dropbox market\n",
            "know other issu rt joelplan second full charg day piss appl\n",
            "second full charg day piss appl\n",
            "rt shaydiddi circustk up appl bs u tell go certain time muh fuh close\n",
            "wit chu shaydiddi offici boycot up call appl curs next use wast time\n",
            "ugh appl your reserv page iphon work\n",
            "itun appl worst product wors newton hockey puck mous utterli pain use\n",
            "der icloud hate u hope die worst fuck invent world fuck youuuuuuuuuuuu icloud appl stevejob\n",
            "updat io lose everyth phone wont let sign itun account thank appl\n",
            "suddenli lost address book gs iphon someon use appl id fuck\n",
            "oh iphon overcapac huh appl let great\n",
            "issu updat itun window pc realli compat sent time talk appl care use\n",
            "appl u guy gay\n",
            "restor iphon still text dear appl love restrict sm text io io atemydingo\n",
            "none app work new io appl\n",
            "seemingli endless loop call appl up verizonwireless investig miss iphon crankywithnophon\n",
            "wisconsin mommi appl terribl hope get apolog\n",
            "zombiebomb phone verizonwireless appl pretti much ever sinc realli annoy\n",
            "chascouponmom appl get busi w new phone want buy stylu made wait forev outsid never\n",
            "appl iphon pleas deliv daughter drive nut iphon\n",
            "sprint bestbuy still word iphon preorder best buy blame sprint sprint blame appl want honest answer help\n",
            "hey appl sm full messag complet shit ye annoy\n",
            "never poor custom servic appl happen appl store w other http co gklxmui\n",
            "appl servic experi realli fuck slip except cute eyelash bat girli appl store http co dohdenmg\n",
            "ipa hour jailbrok shag itun letm restor appl sym\n",
            "hailfir irvysan appl happen snatch siri could douchebag say\n",
            "appl think make siri total depend network connect siri att utter frustrat\n",
            "wow geniu bar reserv line appl ridic right amus ugh\n",
            "iphon appl\n",
            "appl batteri life suck io\n",
            "appl updat seem render work machin incap open hdv video thank appl zero use product today\n",
            "appl commit cloud storag idisk rain soon idisk plan new servic storag\n",
            "hey appl share remind list iphon also login icloud webpag modifi share phone\n",
            "appar fuzzbal crash io congratul appl anoth incompat upgrad\n",
            "could appl lion pleas integr vertic space mission control horizont busi make nauseou\n",
            "someon plz explain whhyy appl distribut phone per day sprint store realli http co uf tak f\n",
            "gah appl io open text messag pain slow top restor attempt succeed earli adopt get better\n",
            "dear appl pdf epub file disappear ibook iphon post io upgrad hurt gs needsomethingtoread\n",
            "cbm lie appl batteri new iphon definit better lt lt check set time app usag io\n",
            "huge podcast fan realli feel like appl drop ball one http co wvzprbci via carrypad\n",
            "realli like siri voic perhap appl get star war voic like garmin http co psujg pn\n",
            "carlton realli hate deal brain dead peopl appl store good product custom servic suck nz\n",
            "realli hate deal brain dead peopl appl store good product custom servic suck\n",
            "make photo album photo app io password protect um appl fix quickli\n",
            "anyon els see miss signal bar iphon gs upgrad io cc applecanada appl forstal\n",
            "rt cbm lie appl batteri new iphon definit better\n",
            "appl want know custom think dont send updat norepli return address invent anyway useless\n",
            "everi time tri voic control ipod touch send imessag start play knew pink still flawless appl\n",
            "studi work hold appl hurri fuck nopati\n",
            "ok hindi keyboard io someth cheer appl support miss indian languag fail\n",
            "rt scottduga warn iphon app spontan loos data might app fault http co sesvwwm io downgrad\n",
            "betweensunday ah yeah option hope appl figur thx\n",
            "wait item copi itun everyth copi goe come appl hell\n",
            "appl unhappi servic product qualiti buy appl\n",
            "lie appl batteri new iphon definit better\n",
            "philipgrey dear appl gotta go chang way lt input type number gt handl blue\n",
            "hold appl custom servic minut wow lt like timewarnerc\n",
            "anyon els stuck dupe calendar mail batteri suck appl hell icloud osx lion disappoint\n",
            "inventor comput mous appl never made one complet piec fuck shit\n",
            "appl kill excit io longer tragic batteri drain geniu bar want replac batteri realli\n",
            "st impress io disappoint w upgrad restor lot app folder miss appl much time went org fail\n",
            "prjusto question appl rememb dissent\n",
            "appl multipl time siri troubl connect network siri need server exercis\n",
            "imessag still work appl\n",
            "rt jimmcniel appl resolv siri network issu need renam great product sorri els havin\n",
            "dear appl gotta go chang way lt input type number gt handl blue\n",
            "ugh wtf bottleneck paypal appl\n",
            "rt doug newton appl pleas fix siri connect network\n",
            "appl pleas fix siri connect network\n",
            "appl resolv siri network issu need renam great product sorri els issu\n",
            "chanc appl releas good headphon dont blast music outsid ear iphon ipod quit obnoxi\n",
            "appl siri work due network problem serious fix iphon fail\n",
            "trisha ps icloud cloudi appl tech techi\n",
            "electricsoup connect appl process command fail right\n",
            "see appl happen releas iphon crappi design old phone\n",
            "rt bonkoif look like appl appropri project resourc need siri reliabl\n",
            "look like appl appropri project resourc need siri reliabl\n",
            "spoke appl rep phone could hear tv blare bg said actual help u direct u back web\n",
            "wrong siri today appl\n",
            "appl siri\n",
            "suspect appl time health declin iphon perfectli iphon releas batteri serious ail\n",
            "hold anoth half hour phone ring one pick appl stink\n",
            "ok appl softwar updat iphon take waaaaay long annoy\n",
            "appl would better inform custom properli migrat icloud mani complaint lead imag damag http co ql zmppo\n",
            "appl io rape batteri life use phone lot sinc get\n",
            "jane gazmaz hope small bug appl must fix right appl itjustwork\n",
            "samsung appl realis realli piss custom base well look petti\n",
            "appl app updat origin folder locat pain\n",
            "appl domain fail open hr late walk ppl store empti need skin screen repres custom servic fail\n",
            "brianmincey appl chipset tear batteri life cowork htc thunderbolt get hour life\n",
            "wish appl updat would stop tri ram itun throat piss iphon appl\n",
            "iphon run slower sinc io updat appl verizon\n",
            "search voic year old nexu one appl\n",
            "appl updat server time week forc restor w new io softwar lost stuff thank\n",
            "appleupd success stori iphon ipad phone appl min ipad wast time appl replaceit\n",
            "thank minut wait hold half hour actual talk someon appl tech decid send email fix phone\n",
            "upset inconvenienc iphon updat fail backup iphon appl\n",
            "serious appl financ damn phone greedi bastard santa get jolli ass gear get us white plz\n",
            "schedul busi spend unqual time att appl recov iphon mo mobil get mo immobil sync\n",
            "ponder io updat sound mikeferri difficulti may hold appl fix\n",
            "twalv appl know issu dst alarm p\n",
            "book appl geniu bar hour still serv disappoint appl store sydney thanksfornoth\n",
            "appar appl geniu train extend clock servic half hour late appoint let know\n",
            "screw appl io download crap tire tri get problem figur connect time\n",
            "wow icloud mail st io upgrad issu realli hope appl without steve job\n",
            "appl guy test upgrad put hr u guy wast time yesterday thank\n",
            "go appl product first ipad freez still frozen iphon turn techietroubl\n",
            "ipad perpetu restor loop tri upgrad io appl sux without steve\n",
            "nd appl geniu apptment run late nd day row nd dodgi ipod make mega hire staff\n",
            "took appl year figur properli syncron iphon wow io\n",
            "appl went th ave store told could wait hour get needless say back hotel relax\n",
            "overal fan iphon howev siri issu connect network appl\n",
            "terribl custom servic lo gato appl pay bad home button iphon\n",
            "appl thank suck much cannot believ would sell someth onlin made\n",
            "major batteri drain issu sinc updat iphon io anyon els appstor iphon appl\n",
            "dear appl pleas send mac book back sure repair done thank\n",
            "appl thank io love music break like talk mobil cell phone bring back function iosdonwgrad\n",
            "appl io iphon caus camera apperatur dilat problem freez\n",
            "appl io geoloc suburb word drop map pin state pleas fix\n",
            "sorri appl imessag never bbm disappoint\n",
            "iphon siri work shit appl\n",
            "clarenc thoma must design new osx lion toss decad workflow standard appl bring back save autosavesuck\n",
            "offici hate appl fix damn itun\n",
            "dear appl staff littl rock store answer first question know hard question\n",
            "semilshah yeah except ask receipt take minut figur print fix appl\n",
            "rt jdougyj hey appl wanna fix fuck playlist order piec shit\n",
            "bummer yahoo ipad fantasi footbal app keep crash sure app new appl io two app run\n",
            "appl suck dick gotta restor ipad annoy\n",
            "line appl stupid\n",
            "nansen man sux appl io upgrad total fail\n",
            "dear appl contact terribl clean duplic hour magic reappear fix\n",
            "much ask app incompat appl http co ykqip nk\n",
            "piss whoever design keyboard appl home end key work cli use key often\n",
            "novatyl appl mine gone recov save b upgrad iphon soooo piss\n",
            "hey appl wanna fix fuck playlist order piec shit\n",
            "siri hard time rememb sister contact card need space famili info iphon appl\n",
            "io get sloppi appl u need check qa team mani issu app data sync\n",
            "rt nansen sm full messag known appl issu new io updat tri restor els fail restor\n",
            "glad paid appl care protect plan hold minut great custom servic\n",
            "happi appl right upgrad itouch took itouch laptop help\n",
            "say appl right goodridd see cancer bad\n",
            "twitter look problem ipad open messag crash app appl mayb fault\n",
            "appl point icloud wireless updat io forc use comput charg ipod touch worstupdateev\n",
            "robert terpstra worri bud ps say lot network issu right appl mac problem\n",
            "hate appl send toledooh bestbuy iphon verizon even pre order\n",
            "pmphillip appl non appl equip broke often guess need asu geniu bar\n",
            "new appl iphon os duplic ical event everyth fix tri turn icloud\n",
            "dear appl conveni handi thought smart iphon io updat app work anymor none gr mbl\n",
            "hey appl know steve job die twitter ipad app keep crash fix pleas lol f light\n",
            "appl happi appl today suggest softwar updat noth work\n",
            "smash yet anoth iphon screen appl gonna make phone durabl tire fix\n",
            "io one problem save someon contact show nam becuz region appl appl\n",
            "sure hell better abl restor calendar event terribl bug appl appl icloud anothericloudfail\n",
            "realli hate appl let hide newsstand app move folder serv purpos\n",
            "life much easier appl blackberri fruit\n",
            "appl locat remind ipad point updat io\n",
            "compar offic live googl app appl icloud see icloud lead crowd agre\n",
            "rt mikeferri appl fix io week buy droid emptythreat\n",
            "turn comput fix meant fuck appl go back geniu bar complain annoy\n",
            "appl fix io week buy droid emptythreat\n",
            "appl pl launch siri iphon disappoint spend hour upgrad io\n",
            "appl suck fuck iphon better glad like caus servic fuck terribl\n",
            "first time unhappi appl product disappoint internet seem confus right\n",
            "week appl io consid go back jailbroken featur plu stabl though\n",
            "issu siri reach network today mani use signal appl\n",
            "new io complet fail upgrad phone stuck restor loop thank appl wast day undo\n",
            "iphon run littl warm sometim appl\n",
            "appl wtf add newsstand folder alreadi wall garden pleas remind us\n",
            "appl see none microsoft offic program work anymor lion upgrad\n",
            "dear appl want newsstand icon screen notcool\n",
            "blackberri take better qualiti photo appl iphon though give photograhersey\n",
            "ok itunesmus idk wth sync phone album art order wtf appl\n",
            "wish siri could tweet appl fix\n",
            "appl still wait deliv phone sprint\n",
            "never purchas anoth appl product rest life glad steve job fuck dead may fuck rot hell\n",
            "thank appl new imac brick cannot instal lion cannot purchas instal former owner\n",
            "ask siri babi lisa told sorri troubl connect network right appl server fail io\n",
            "thing io done delet tiger wood game made imposs retriev thank appl\n",
            "damn appl break wififofum continu work io one use app damn appl overbear polici\n",
            "yo appl updat disast\n",
            "dear applecongratul su insur compani manag make top shit list ineedthosepictur\n",
            "dear appl must let turn icloud save bandwidth delet everi document ipad bullshit\n",
            "rt joelburn dear appl thank beauti new io featur miss old one lk make call text gt\n",
            "far worst experi upgrad version io appl io\n",
            "happen rt xcuntnuggetx never purchas anoth item appl\n",
            "never purchas anoth item appl\n",
            "rt leiboaz wow worst appl custom servic experi ever arrog inept bad combo biltmor appl store\n",
            "wow worst appl custom servic experi ever arrog inept bad combo biltmor appl store\n",
            "hey guy appl wtf happen iphon io suddenli fade black begin vibrat continu reboot\n",
            "hbogo appl play nice let use hdmi ipad pretti lame\n",
            "warn iphon app spontan loos data might app fault http co sesvwwm io downgrad appl marcoar\n",
            "first imag photo roll made serious appl fuck much\n",
            "appl iphon plu io equal half batteri life\n",
            "appl itun updat wanna updat iphon io itun say need updat fail\n",
            "appl let use credit itun unless credit card told redeem card sound fair\n",
            "amandbrar appl siri work less time servic improv monday return iphon\n",
            "azrael rt davidegori mobilem issu sync access mail good premis icloud appl\n",
            "need appl help instal new io iphon stuck find iphon screen keep click next work\n",
            "bummer appl icloud sync window w outlook thunderbird ie firefox chrome sadmac\n",
            "disappoint visual merchandis appl simpl lack eleg sequenc even tell us siri http co xv q gfi\n",
            "termin hold appl support must person troubl new iphon synch\n",
            "appl thank appl io lose contact\n",
            "appl give app back\n",
            "appl io nonstop drop call mute button randomli activ person cant hear pull phone ear mobil screen\n",
            "rt tomcolontonio occur appl appl ppl share itun account amongst famili wtf\n",
            "tomcolontonio appl epicfail\n",
            "minut iphon post io upgrad lost charg appl store folk idea\n",
            "cut cord make podcast even harder manag subscript wth appl http co ld x io via carrypad\n",
            "less hour post io iphon gone batteri charg appl store folk solut\n",
            "well appl seem b screw iphon resellar still dont yet promis similar bell monopolist prctice\n",
            "also ericgreenspan forget appl stop close app store bloodi purchas\n",
            "appl cu\n",
            "sigh appl store seem stump catastroph bad batteri life upgrad io\n",
            "hmmmm lot siri featur work canada locat direct serious appl come\n",
            "appl siri connect network less use voicecontrol\n",
            "appl took siri made exclus iphon sorud\n",
            "total time phone appl hour minut let see goe\n",
            "wait line noth fuck geniu appl call app john jean stop fuck name im french boy pcam\n",
            "dear appl one day go releas version itun freez often work one day\n",
            "hr sinc report up theft iphon appl done noth return call promis noth\n",
            "bode well charg night appl iphon batteri hr charger call light use\n",
            "houston problem ipad restor hour instal appl io right\n",
            "siri went littl last night come appl get shit togeth launch\n",
            "ford team appl instead microsoft make sync system new focu car sweet sync epicfail\n",
            "rt gdcurri realli appl done itun click music movi tv show playlist get l\n",
            "damn appl\n"
          ],
          "name": "stdout"
        }
      ]
    },
    {
      "cell_type": "code",
      "metadata": {
        "id": "cgtMkM5kt8pZ",
        "colab": {
          "base_uri": "https://localhost:8080/"
        },
        "outputId": "18087b75-1c5c-46d0-a4ad-01d5e4661845"
      },
      "source": [
        "print(corpus)"
      ],
      "execution_count": 33,
      "outputs": [
        {
          "output_type": "stream",
          "text": [
            "['appl get swype iphon crack iphon', 'appl ad carrier support iphon announc', 'hilari youtub video guy duet appl siri pretti much sum love affair http co exbnqji', 'rim made easi switch appl iphon see ya', 'realiz reason got twitter io thank appl', 'current blackberri user littl bit disappoint move android appl iphon', 'strangest thing siri said far sooo glad appl gave siri sens humor http co twaeudbp via happyplac', 'great close person event appl tonight regent st store', 'compani experi best custom servic asid zappo appl', 'appli job appl hope call lol', 'rt jamaicanidl lmao think appl onto someth magic die haha siri suggest find whore h', 'lmao think appl onto someth magic die haha siri suggest find whore hide bodi lolol', 'rt philliprowntre regist appl develop hope actual help greatli appreci', 'wow great deal refurb ipad first gen model rt appl offer great deal refurbish st gen ipad http co ukwokbgd appl', 'regist appl develop hope actual help greatli appreci', 'current learn mandarin upcom trip hong kong gotta hand appl iphon uber use flashcard app', 'come dark side gretcheneclark hey appl send free iphon publicli ceremoni burn blackberri', 'hey appl send free iphon version publicli ceremoni burn blackberri', 'thank appl find mac locat wipe stolen air smallvictori thievingbastard', 'thank appl covent garden geniusbar replac macbook keyboard crack wristpad lunch break today warranti', 'dailydealchat appl thank', 'ipad replac bound playbook n f l team http co uxawkwf appl nytim', 'appl good ipad', 'appl siri eff amaz', 'amaz new appl io featur http co jatfvfpm', 'rt triplingo one featur educ app appl websit today sweet http co ywvbe z', 'one featur educ app appl websit today sweet http co ywvbe z', 'want someth done right go appl useless day yourdaysarenumb', 'unexpect workshop iphon appl yesterday got awesom amount info notjustaboutthephon gamerchik', 'lt io appl', 'rt appl question bro rt ainteeentrippin get di iphon evo', 'rt imightbewrong peopl bitch iphon think smartest phone ever happi', 'peopl bitch iphon think smartest phone ever happi way go appl', 'twitter ceo point appl corpor mentor io signup tripl http co gci iphn', 'bu iphon thxx appl', 'aze v appl umber appstor well done itun mobil devic talk desktop app', 'nytim coach want see bring ipad http co j ftieng ipad appl set red red hut hut nfl wish ipad', 'appl jiliv danielpink appl sell million iphon unit first weekend steve job brillianc live ever iphon rva', 'bkad apolog appl', 'appl download io prove popular user http co nshlfiux', 'lmfao look argument siri ijustin appl http co vjl si', 'incred million iphon ss day better iphon http co fmjxtmm appl iphon', 'save hp unwant os help buy iphon seen light lol http co gup acz backchannel appl', 'well appl fix io batteri drain problem replac iphon work like champ', 'current order brand new macbook pro bahhh macbook year old miss time cc appl', 'bless appl', 'siri know dad mom brother girlfriend thank appl', 'well least appl store amaz call wait music need', 'sweet appl replac glass probono thank appl', 'bad appl sell million iphon debut weekend bloomberg http co avsl ygu smartphon sm rt vinodrad', 'love new technolog appl iphon mac air icloud unreal technolog', 'love new io updat appl', 'anoth mention appl store http co fiioapkt rt floridamik get great custom servic appl store', 'time go get iphon look forward stick man longer pay text thank appl', 'hey appl hate comput need mack wanna send free one', 'thank appl new gf iphon great everyth', 'icloud set flawless work like champ cloud appl', 'wisconsin mommi appl total email compani alway get great servic appl store', 'appl love new io upgrad iphon', 'nice appl tech support guy fix itouch', 'get great custom servic appl store millenia mall', 'io faster ipad appl', 'love appl imac even though seen hubbi day geek', 'make switch android appl iphon iphon smartphon stevejob appl store http co kj pjvkh', 'thank incred peopl appl go beyond offer replac water damag macbook pro wow', 'play man love camera iphon well done appl fb http co tmdfqre', 'yeah appl io readinglist chang life nowicanspendevenmoretimeonmyphon', 'appl safari reader own worldwid web', 'love appl servic case crack x go hand case walk', 'twitterpeopleiwouldliketomeet coollik thegadgetshow thelittleappkid jon laker benruberi appl twitter fxhomehitfilm', 'said laid next year appl job last iphon iphon iphon g magic http co dxxklubp', 'kind excit way last class right go appl store buy macosc snow leopard lion', 'use blackberri yr disrupt lost gig thx servic im move appl iphon', 'appl sell million iphon day appl keep well http co zzc w', 'yessss lovin iphon updat especi slide bar top screen good job appl', 'million weekend iphon per second mad appl', 'appl got invest macbook pro next year time get sell android gear', 'iancollinsuk appl like', 'sent grandma post card use cardsapp thank appl', 'sorri blackberri move appl', 'kostatsetseka appl put wash kind equival blend glad hear still aliv', 'launder ari iphon finest moment dri bag organ rice day boot appl', 'bravo appl http co bgotzj k', 'god bless youtub appl appletv bad ass system love princessofchina gb coldplay rihanna', 'twitter day smash iphon appl nice gave new one', 'thank appl io email pop lock screen open unlock', 'one word wow rt jldavid iphon first weekend sale top four million http co zx pw gt via appl', 'good iphon well today thank god appl', 'rt mn nova love io easter egg pull middl top bottom see pull awesom littl featur io appl', 'love io easter egg pull middl top bottom see pull awesom littl featur io appl', 'love io easter egg pull middl top bottom see pull awesom littl featur appl lovemyiphon', 'updat io start use cloud servic pretti bad ass appl iphon gs still champ', 'gone run beauti morn man love io appl iphon', 'appl simpli best', 'must admit appl made happi camper text tone lol ring tone makemeproud drake ver text tone nicki', 'day thank great custom servic receiv today appl via phone cs new phone way daysofgr', 'appl replac phone free', 'love new ipod updat appl', 'alexlindsay wife upgrad iphon think siri alon worth upgrad look forward appl continu enhanc siri', 'rt tomkeen thx instagram thx appl hypo tri x http co bppjwncp', 'stevejob honor tonit appl truli great loss world miss', 'thx instagram thx appl hypo tri x http co eejhbt', 'love new iphon thank appl io', 'love much thank appl http co ui loezx', 'appl iphon great geniu', 'appl card app notifi card sent arriv local post offic deliv today sunday truli magic', 'love new appl updat think get better somehow simplifi life right appl', 'appl siri amaz', 'rygurl need appl iphon siri', 'meet siri new iphon butler click link amaz http co lvffdcel appl', 'use work pc never ever get feel worst speaker ever appl spoil imamac', 'appl http co iaa', 'appl got new io upgrad imessag good luck surviv blackberri', 'love io awesom appl', 'rt mattyriesz kathrynye right iphon must addict welcom appl club', 'thank appl innov exhibit guy play facetim instead watch game sport bar http co ou k ge', 'blackberri boo hiss appl wuhu berri power technolog actual work', 'appl far best ipod first time iphon ever good job guy', 'thank steve appl store th av http co nsaisrip', 'appl siri witchcraft next googleresearch yr lead lost', 'appl io sweet notif phone search cover mail wifi sync icloud backup integr twitter well done', 'rt katebett anoth great jame stewart stori today ny time import architectur appl retail success http', 'anoth great jame stewart stori today ny time import architectur appl retail success http co kniz', 'lt appl http co ondxwper', 'welcom twitter world markstuv due io appl thank guy', 'impress servic appl geniu bar metro centr power cabl replac free n book screen replac free', 'rt deb lavoy nice guy appl store replac phone grati show hairlin crack screen thank appl', 'nice guy appl store replac phone grati show hairlin crack screen thank appl', 'iphon batteri last longer day happen sinc edg iphon nice job appl', 'would taken min write blackberri thank u appl convert show grass greener', 'rt herahussain rickysinghpt got new backsid eye phone v impress appl', 'rickysinghpt got new backsid eye phone v impress appl', 'iphon space http co jinnhvwz amaz creativ appl product inspir peopl unbeliev thing', 'thank appl make ipad feel like new new io', 'ibertaddigit tv ipad briliant stevejob produck http co ohfli appl present http co dbbwsdpx', 'use awsom ipad love love macbook ipod amaz love appl', 'appl io upgrad done much better featur featur requir', 'new io updat best ilovey appl', 'final got iphon thank appl stupid att learn lesson', 'absolut love iphon thank steve appl', 'appl invent product actual get brother call parent get go amaz siri ipod', 'dammit listen siri make want upgrad well play appl', 'creat new folder within photo album io final thank appl thorn side newfeatur', 'video card kimari workstat die six month long hp hello appl', 'blackberri facebook u r realli make throw blackberri trash get appl iphon facebook upload issu', 'io updat submit appl thank support', 'awesom servic appl store pc thank chri', 'rt ne appl thank fix http co wtj ogdo', 'crazi io photo crop best appl', 'appl thank fix http co wtj ogdo', 'hell ye got contact back thank appl', 'rt sawyerhartman fu king love appl phone best thing ever siri best thing ever made', 'appl chang life', 'mad prop appl employe charg replac back plate iphon made day', 'jonsibley actual appl mous pretti sweet man', 'iphon amaz siri voic recognit absolut step previou attempt bravo appl', 'final got appl iphon thank sprint get time', 'io nice thank appl', 'good support fm kevin appl bellevu store biz custom ty', 'download io better expect thankyou appl', 'wow love new appl updat touch cool well done', 'appl siri amaz love', 'love love love io appl', 'rt cjwallac appar appl put mb cap sm new updat mb storag tell inbox full w', 'rt jewelz mashabl appl iphon r expens went w htc galaxi custom loyalti w phone comp', 'mashabl appl iphon r expens went w htc galaxi custom loyalti w phone comp', 'kill appl http co jw z c rip appl', 'appl tune go iphon iphon lone without silli io', 'appl need hurri releas itunesmatch', 'siri alway appl', 'need exchang cord appl store wait geniu appl', 'appl airdrop fail immedi declin request everi time', 'good articl appl fuck lion futur http co zndp vr fb', 'rt radlerc yellowg iphon user complain yellow tint screen http co uaqrxtnk appl iphon', 'yellowg iphon user complain yellow tint screen http co uaqrxtnk appl iphon', 'one iphon featur still miss sinc appl first show contact pictur contact list simpl yet major updat miss', 'ask siri dream electr sleep disappoint snippi answer miss opportun appl', 'paulen surpris appl throw error alert author author comput button', 'lisa mari shhhh evil sith lord appl may hear ha', 'fuck appl die fuck blaze inferno', 'oh appl steve obvious noth iphoto perfect opposit insan great get fix pleas', 'omg appl fuck delet music dick', 'ryanbaldwin appl itun go store gt authoris auto authoris sign itun grrrr', 'serious absolut of clue appl mean author', 'boy could appl make harder put purchas music cloud new macbook pro must author comput', 'shit shit shit io updat ate app data media like appl said would go take time rebuild', 'appl u cannot tell least gb iphon la vega give fuck break', 'love appl download hour pad wonki ripstevejob thenonsensepersist neednewipadguid fatfuckingch', 'dear appl new air notbook sinc updat kill wifi bug destroy product', 'done att appl profit lack custom servic fuck', 'would great appl would send new phone frustrat', 'appl thank ruin gs io turn phone utterli useless pile shit', 'rogerweir option replac iphon sure want one duff iphon iphon appl', 'appar appl put mb cap sm new updat mb storag tell inbox full', 'know appl almost week sinc paid itun match would realli like use eta fix', 'remov appl shit', 'phoenixswing iphon give hella hard time w io updat appl', 'suck hello appl rt phonedog aaron interest note droid razr batteri remov', 'appl send iphon preorder hr launch can send jackass want shoot blend em', 'gotta say appl itouch iphon shuffl etc sound qualiti aw pain crap downgrad soni sound qualiti wise', 'bisquiat appl upgrad slow phone much stuck half time uch thank damag suck', 'mayati think appl thorough job step x step upgrad move icloud cost mightili', 'hey appl io iphon includ song compil album artist name whaddupwitdat', 'nickthefnicon send rcve txt apt appl pm exclaim wait whole year phone lmao', 'total chao appl store regent street like ethiopian feed station believ co make cool shit', 'fishmama made purchas wait appl survey hate go b c bad custserv', 'correct best buy kudo chri alamo ranch tx fix issu resolv day w att appl hero day', 'phxguy appl bgr ppl stand line hr get newest model sucker', 'would kill appl put braill type bump earbud know bud r l dark', 'appl wow motorola crush dream', 'rt phxguy oh fuck appl alreadi gt iphon schedul summer launch http co ofh ptag via bgr', 'oh fuck appl alreadi gt iphon schedul summer launch http co ofh ptag via bgr', 'appl wait thursday avail appoint geniu tell shit luck', 'wtf appl new io allow get push notif newstand siri keep yap fuck', 'appl ipad io messag icon includ use', 'steelo yea pre order appl sorri like', 'interest appl requir reserv appl iphon http co zzk ftii', 'appl iphon batteri crappi fail', 'appl macbook keyboard type', 'appl icloud sync sticki alway around noth everi progress w appl gruber', 'appl new save version function page absolut aw interrupt counter intuit piec crap world', 'hate appl comput that dollar drain', 'appl iphon charg slowli', 'appl io gm ipad slow wash better beta solv problem give ipad', 'appl wish could pick month day year set new calendar item iphon new io fix yet', 'appl itun worst program ever great phone make aw softwar', 'one would think voic recognit appl tech support line would work littl better', 'appl repair ipad appl lost year android come', 'aze v appl umber proper consolid proper sync stop lose purchas item checkbox think', 'asimrang appl umber desktop app wack though', 'made reserv yet still wait line humpt oh appl appl store w other http co jzmvbdnm', 'frustrat bought new macbook pro appl find doesnt ship media expensivepaperweight', 'dear appl turn awesom featur enabl data plan handl mb data', 'dontbemadatmebecaus android far better appl', 'appl problem io prevent audio app audio function oper properli keep lose sound', 'appl appl one thing hater mous butteri finish fast happi macworld macworld http co uh vt', 'hey appl stop send automat depreci iphon older signal iphon die rapidli processor wise', 'thing bad new canon camera two compact flash card one sd sd goe appl comput damn', 'wtf appl page new term condit u updat ur app itun store u realli think read em realli', 'fuck u appl', 'oh prolli ganna late work bc appl screw phone alarm', 'fuck dose phone decid ganna freez everi time tri updat fuck sick appl', 'u need text wait u wont get cuz appl fuck everi time fuckingpiss', 'imessag show time messag sent annoy appl', 'like appl da fuck shit http co nb dhlsg', 'rt circustk wit chu shaydiddi offici boycot up call appl curs next use wast', 'damn appl whatchu done phone', 'samsung seek iphon ban japan australiapat war intensifi injunct sought appl http co qmwjtvnk', 'appl everi time io softwar updat ipad goe dead need total restor fail', 'appl io noth pain ass room music photo app undo garbag', 'appl reserv system work show product avail let alon iphon site open browser pm noth', 'rt reddeersteph joelplan appl hear troubl even turn bright andshuttingdownru', 'joelplan appl hear troubl even turn bright andshuttingdownrunningprogram nohelp', 'albertm rememb appl evil icloud enter dropbox market', 'know other issu rt joelplan second full charg day piss appl', 'second full charg day piss appl', 'rt shaydiddi circustk up appl bs u tell go certain time muh fuh close', 'wit chu shaydiddi offici boycot up call appl curs next use wast time', 'ugh appl your reserv page iphon work', 'itun appl worst product wors newton hockey puck mous utterli pain use', 'der icloud hate u hope die worst fuck invent world fuck youuuuuuuuuuuu icloud appl stevejob', 'updat io lose everyth phone wont let sign itun account thank appl', 'suddenli lost address book gs iphon someon use appl id fuck', 'oh iphon overcapac huh appl let great', 'issu updat itun window pc realli compat sent time talk appl care use', 'appl u guy gay', 'restor iphon still text dear appl love restrict sm text io io atemydingo', 'none app work new io appl', 'seemingli endless loop call appl up verizonwireless investig miss iphon crankywithnophon', 'wisconsin mommi appl terribl hope get apolog', 'zombiebomb phone verizonwireless appl pretti much ever sinc realli annoy', 'chascouponmom appl get busi w new phone want buy stylu made wait forev outsid never', 'appl iphon pleas deliv daughter drive nut iphon', 'sprint bestbuy still word iphon preorder best buy blame sprint sprint blame appl want honest answer help', 'hey appl sm full messag complet shit ye annoy', 'never poor custom servic appl happen appl store w other http co gklxmui', 'appl servic experi realli fuck slip except cute eyelash bat girli appl store http co dohdenmg', 'ipa hour jailbrok shag itun letm restor appl sym', 'hailfir irvysan appl happen snatch siri could douchebag say', 'appl think make siri total depend network connect siri att utter frustrat', 'wow geniu bar reserv line appl ridic right amus ugh', 'iphon appl', 'appl batteri life suck io', 'appl updat seem render work machin incap open hdv video thank appl zero use product today', 'appl commit cloud storag idisk rain soon idisk plan new servic storag', 'hey appl share remind list iphon also login icloud webpag modifi share phone', 'appar fuzzbal crash io congratul appl anoth incompat upgrad', 'could appl lion pleas integr vertic space mission control horizont busi make nauseou', 'someon plz explain whhyy appl distribut phone per day sprint store realli http co uf tak f', 'gah appl io open text messag pain slow top restor attempt succeed earli adopt get better', 'dear appl pdf epub file disappear ibook iphon post io upgrad hurt gs needsomethingtoread', 'cbm lie appl batteri new iphon definit better lt lt check set time app usag io', 'huge podcast fan realli feel like appl drop ball one http co wvzprbci via carrypad', 'realli like siri voic perhap appl get star war voic like garmin http co psujg pn', 'carlton realli hate deal brain dead peopl appl store good product custom servic suck nz', 'realli hate deal brain dead peopl appl store good product custom servic suck', 'make photo album photo app io password protect um appl fix quickli', 'anyon els see miss signal bar iphon gs upgrad io cc applecanada appl forstal', 'rt cbm lie appl batteri new iphon definit better', 'appl want know custom think dont send updat norepli return address invent anyway useless', 'everi time tri voic control ipod touch send imessag start play knew pink still flawless appl', 'studi work hold appl hurri fuck nopati', 'ok hindi keyboard io someth cheer appl support miss indian languag fail', 'rt scottduga warn iphon app spontan loos data might app fault http co sesvwwm io downgrad', 'betweensunday ah yeah option hope appl figur thx', 'wait item copi itun everyth copi goe come appl hell', 'appl unhappi servic product qualiti buy appl', 'lie appl batteri new iphon definit better', 'philipgrey dear appl gotta go chang way lt input type number gt handl blue', 'hold appl custom servic minut wow lt like timewarnerc', 'anyon els stuck dupe calendar mail batteri suck appl hell icloud osx lion disappoint', 'inventor comput mous appl never made one complet piec fuck shit', 'appl kill excit io longer tragic batteri drain geniu bar want replac batteri realli', 'st impress io disappoint w upgrad restor lot app folder miss appl much time went org fail', 'prjusto question appl rememb dissent', 'appl multipl time siri troubl connect network siri need server exercis', 'imessag still work appl', 'rt jimmcniel appl resolv siri network issu need renam great product sorri els havin', 'dear appl gotta go chang way lt input type number gt handl blue', 'ugh wtf bottleneck paypal appl', 'rt doug newton appl pleas fix siri connect network', 'appl pleas fix siri connect network', 'appl resolv siri network issu need renam great product sorri els issu', 'chanc appl releas good headphon dont blast music outsid ear iphon ipod quit obnoxi', 'appl siri work due network problem serious fix iphon fail', 'trisha ps icloud cloudi appl tech techi', 'electricsoup connect appl process command fail right', 'see appl happen releas iphon crappi design old phone', 'rt bonkoif look like appl appropri project resourc need siri reliabl', 'look like appl appropri project resourc need siri reliabl', 'spoke appl rep phone could hear tv blare bg said actual help u direct u back web', 'wrong siri today appl', 'appl siri', 'suspect appl time health declin iphon perfectli iphon releas batteri serious ail', 'hold anoth half hour phone ring one pick appl stink', 'ok appl softwar updat iphon take waaaaay long annoy', 'appl would better inform custom properli migrat icloud mani complaint lead imag damag http co ql zmppo', 'appl io rape batteri life use phone lot sinc get', 'jane gazmaz hope small bug appl must fix right appl itjustwork', 'samsung appl realis realli piss custom base well look petti', 'appl app updat origin folder locat pain', 'appl domain fail open hr late walk ppl store empti need skin screen repres custom servic fail', 'brianmincey appl chipset tear batteri life cowork htc thunderbolt get hour life', 'wish appl updat would stop tri ram itun throat piss iphon appl', 'iphon run slower sinc io updat appl verizon', 'search voic year old nexu one appl', 'appl updat server time week forc restor w new io softwar lost stuff thank', 'appleupd success stori iphon ipad phone appl min ipad wast time appl replaceit', 'thank minut wait hold half hour actual talk someon appl tech decid send email fix phone', 'upset inconvenienc iphon updat fail backup iphon appl', 'serious appl financ damn phone greedi bastard santa get jolli ass gear get us white plz', 'schedul busi spend unqual time att appl recov iphon mo mobil get mo immobil sync', 'ponder io updat sound mikeferri difficulti may hold appl fix', 'twalv appl know issu dst alarm p', 'book appl geniu bar hour still serv disappoint appl store sydney thanksfornoth', 'appar appl geniu train extend clock servic half hour late appoint let know', 'screw appl io download crap tire tri get problem figur connect time', 'wow icloud mail st io upgrad issu realli hope appl without steve job', 'appl guy test upgrad put hr u guy wast time yesterday thank', 'go appl product first ipad freez still frozen iphon turn techietroubl', 'ipad perpetu restor loop tri upgrad io appl sux without steve', 'nd appl geniu apptment run late nd day row nd dodgi ipod make mega hire staff', 'took appl year figur properli syncron iphon wow io', 'appl went th ave store told could wait hour get needless say back hotel relax', 'overal fan iphon howev siri issu connect network appl', 'terribl custom servic lo gato appl pay bad home button iphon', 'appl thank suck much cannot believ would sell someth onlin made', 'major batteri drain issu sinc updat iphon io anyon els appstor iphon appl', 'dear appl pleas send mac book back sure repair done thank', 'appl thank io love music break like talk mobil cell phone bring back function iosdonwgrad', 'appl io iphon caus camera apperatur dilat problem freez', 'appl io geoloc suburb word drop map pin state pleas fix', 'sorri appl imessag never bbm disappoint', 'iphon siri work shit appl', 'clarenc thoma must design new osx lion toss decad workflow standard appl bring back save autosavesuck', 'offici hate appl fix damn itun', 'dear appl staff littl rock store answer first question know hard question', 'semilshah yeah except ask receipt take minut figur print fix appl', 'rt jdougyj hey appl wanna fix fuck playlist order piec shit', 'bummer yahoo ipad fantasi footbal app keep crash sure app new appl io two app run', 'appl suck dick gotta restor ipad annoy', 'line appl stupid', 'nansen man sux appl io upgrad total fail', 'dear appl contact terribl clean duplic hour magic reappear fix', 'much ask app incompat appl http co ykqip nk', 'piss whoever design keyboard appl home end key work cli use key often', 'novatyl appl mine gone recov save b upgrad iphon soooo piss', 'hey appl wanna fix fuck playlist order piec shit', 'siri hard time rememb sister contact card need space famili info iphon appl', 'io get sloppi appl u need check qa team mani issu app data sync', 'rt nansen sm full messag known appl issu new io updat tri restor els fail restor', 'glad paid appl care protect plan hold minut great custom servic', 'happi appl right upgrad itouch took itouch laptop help', 'say appl right goodridd see cancer bad', 'twitter look problem ipad open messag crash app appl mayb fault', 'appl point icloud wireless updat io forc use comput charg ipod touch worstupdateev', 'robert terpstra worri bud ps say lot network issu right appl mac problem', 'hate appl send toledooh bestbuy iphon verizon even pre order', 'pmphillip appl non appl equip broke often guess need asu geniu bar', 'new appl iphon os duplic ical event everyth fix tri turn icloud', 'dear appl conveni handi thought smart iphon io updat app work anymor none gr mbl', 'hey appl know steve job die twitter ipad app keep crash fix pleas lol f light', 'appl happi appl today suggest softwar updat noth work', 'smash yet anoth iphon screen appl gonna make phone durabl tire fix', 'io one problem save someon contact show nam becuz region appl appl', 'sure hell better abl restor calendar event terribl bug appl appl icloud anothericloudfail', 'realli hate appl let hide newsstand app move folder serv purpos', 'life much easier appl blackberri fruit', 'appl locat remind ipad point updat io', 'compar offic live googl app appl icloud see icloud lead crowd agre', 'rt mikeferri appl fix io week buy droid emptythreat', 'turn comput fix meant fuck appl go back geniu bar complain annoy', 'appl fix io week buy droid emptythreat', 'appl pl launch siri iphon disappoint spend hour upgrad io', 'appl suck fuck iphon better glad like caus servic fuck terribl', 'first time unhappi appl product disappoint internet seem confus right', 'week appl io consid go back jailbroken featur plu stabl though', 'issu siri reach network today mani use signal appl', 'new io complet fail upgrad phone stuck restor loop thank appl wast day undo', 'iphon run littl warm sometim appl', 'appl wtf add newsstand folder alreadi wall garden pleas remind us', 'appl see none microsoft offic program work anymor lion upgrad', 'dear appl want newsstand icon screen notcool', 'blackberri take better qualiti photo appl iphon though give photograhersey', 'ok itunesmus idk wth sync phone album art order wtf appl', 'wish siri could tweet appl fix', 'appl still wait deliv phone sprint', 'never purchas anoth appl product rest life glad steve job fuck dead may fuck rot hell', 'thank appl new imac brick cannot instal lion cannot purchas instal former owner', 'ask siri babi lisa told sorri troubl connect network right appl server fail io', 'thing io done delet tiger wood game made imposs retriev thank appl', 'damn appl break wififofum continu work io one use app damn appl overbear polici', 'yo appl updat disast', 'dear applecongratul su insur compani manag make top shit list ineedthosepictur', 'dear appl must let turn icloud save bandwidth delet everi document ipad bullshit', 'rt joelburn dear appl thank beauti new io featur miss old one lk make call text gt', 'far worst experi upgrad version io appl io', 'happen rt xcuntnuggetx never purchas anoth item appl', 'never purchas anoth item appl', 'rt leiboaz wow worst appl custom servic experi ever arrog inept bad combo biltmor appl store', 'wow worst appl custom servic experi ever arrog inept bad combo biltmor appl store', 'hey guy appl wtf happen iphon io suddenli fade black begin vibrat continu reboot', 'hbogo appl play nice let use hdmi ipad pretti lame', 'warn iphon app spontan loos data might app fault http co sesvwwm io downgrad appl marcoar', 'first imag photo roll made serious appl fuck much', 'appl iphon plu io equal half batteri life', 'appl itun updat wanna updat iphon io itun say need updat fail', 'appl let use credit itun unless credit card told redeem card sound fair', 'amandbrar appl siri work less time servic improv monday return iphon', 'azrael rt davidegori mobilem issu sync access mail good premis icloud appl', 'need appl help instal new io iphon stuck find iphon screen keep click next work', 'bummer appl icloud sync window w outlook thunderbird ie firefox chrome sadmac', 'disappoint visual merchandis appl simpl lack eleg sequenc even tell us siri http co xv q gfi', 'termin hold appl support must person troubl new iphon synch', 'appl thank appl io lose contact', 'appl give app back', 'appl io nonstop drop call mute button randomli activ person cant hear pull phone ear mobil screen', 'rt tomcolontonio occur appl appl ppl share itun account amongst famili wtf', 'tomcolontonio appl epicfail', 'minut iphon post io upgrad lost charg appl store folk idea', 'cut cord make podcast even harder manag subscript wth appl http co ld x io via carrypad', 'less hour post io iphon gone batteri charg appl store folk solut', 'well appl seem b screw iphon resellar still dont yet promis similar bell monopolist prctice', 'also ericgreenspan forget appl stop close app store bloodi purchas', 'appl cu', 'sigh appl store seem stump catastroph bad batteri life upgrad io', 'hmmmm lot siri featur work canada locat direct serious appl come', 'appl siri connect network less use voicecontrol', 'appl took siri made exclus iphon sorud', 'total time phone appl hour minut let see goe', 'wait line noth fuck geniu appl call app john jean stop fuck name im french boy pcam', 'dear appl one day go releas version itun freez often work one day', 'hr sinc report up theft iphon appl done noth return call promis noth', 'bode well charg night appl iphon batteri hr charger call light use', 'houston problem ipad restor hour instal appl io right', 'siri went littl last night come appl get shit togeth launch', 'ford team appl instead microsoft make sync system new focu car sweet sync epicfail', 'rt gdcurri realli appl done itun click music movi tv show playlist get l', 'damn appl']\n"
          ],
          "name": "stdout"
        }
      ]
    },
    {
      "cell_type": "code",
      "metadata": {
        "id": "kbXjlmEhuN30",
        "colab": {
          "base_uri": "https://localhost:8080/"
        },
        "outputId": "468ce34b-1246-4b40-b265-6c423366dade"
      },
      "source": [
        "# Mounting Google Drive\n",
        "from google.colab import drive\n",
        "drive.mount('/content/drive')"
      ],
      "execution_count": 34,
      "outputs": [
        {
          "output_type": "stream",
          "text": [
            "Mounted at /content/drive\n"
          ],
          "name": "stdout"
        }
      ]
    },
    {
      "cell_type": "code",
      "metadata": {
        "id": "6zply0gZuAx_"
      },
      "source": [
        "#    Adding corpus to csv \n",
        "corpus_dataset = pd.DataFrame(corpus)\n",
        "corpus_dataset['corpus'] = corpus_dataset\n",
        "corpus_dataset = corpus_dataset.drop([0], axis = 1) \n",
        "corpus_dataset.to_csv('corpus_dataset1.csv')"
      ],
      "execution_count": 36,
      "outputs": []
    },
    {
      "cell_type": "code",
      "metadata": {
        "id": "Ub7mHLRnuC4J",
        "colab": {
          "base_uri": "https://localhost:8080/"
        },
        "outputId": "432cd801-2d48-4a2b-a110-33bed00b5a79"
      },
      "source": [
        "# Creating the Bag of Words model\n",
        "from sklearn.feature_extraction.text import CountVectorizer\n",
        "cv = CountVectorizer(max_features = 1500)\n",
        "print(cv)\n",
        "X = cv.fit_transform(corpus).toarray()\n",
        "y = dataset.iloc[:, 1].values"
      ],
      "execution_count": 37,
      "outputs": [
        {
          "output_type": "stream",
          "text": [
            "CountVectorizer(analyzer='word', binary=False, decode_error='strict',\n",
            "                dtype=<class 'numpy.int64'>, encoding='utf-8', input='content',\n",
            "                lowercase=True, max_df=1.0, max_features=1500, min_df=1,\n",
            "                ngram_range=(1, 1), preprocessor=None, stop_words=None,\n",
            "                strip_accents=None, token_pattern='(?u)\\\\b\\\\w\\\\w+\\\\b',\n",
            "                tokenizer=None, vocabulary=None)\n"
          ],
          "name": "stdout"
        }
      ]
    },
    {
      "cell_type": "code",
      "metadata": {
        "id": "1HnEJG_Zv7yK",
        "colab": {
          "base_uri": "https://localhost:8080/"
        },
        "outputId": "383beb42-ba92-4af9-ab67-f92711f9d4e9"
      },
      "source": [
        "print(X)\n",
        "print(X.shape)"
      ],
      "execution_count": 38,
      "outputs": [
        {
          "output_type": "stream",
          "text": [
            "[[0 0 0 ... 0 0 0]\n",
            " [0 0 0 ... 0 0 0]\n",
            " [0 0 0 ... 0 0 0]\n",
            " ...\n",
            " [0 0 0 ... 0 0 0]\n",
            " [0 0 0 ... 0 0 0]\n",
            " [0 0 0 ... 0 0 0]]\n",
            "(479, 1500)\n"
          ],
          "name": "stdout"
        }
      ]
    },
    {
      "cell_type": "code",
      "metadata": {
        "id": "T9UKMoIov9W0",
        "colab": {
          "base_uri": "https://localhost:8080/"
        },
        "outputId": "fb2d0f81-3541-4780-8a34-cc671245f39b"
      },
      "source": [
        "print(y)\n",
        "print(y.shape)"
      ],
      "execution_count": 39,
      "outputs": [
        {
          "output_type": "stream",
          "text": [
            "[1 1 1 1 1 1 1 1 1 1 1 1 1 1 1 1 1 1 1 1 1 1 1 1 1 1 1 1 1 1 1 1 1 1 1 1 1\n",
            " 1 1 1 1 1 1 1 1 1 1 1 1 1 1 1 1 1 1 1 1 1 1 1 1 1 1 1 1 1 1 1 1 1 1 1 1 1\n",
            " 1 1 1 1 1 1 1 1 1 1 1 1 1 1 1 1 1 1 1 1 1 1 1 1 1 1 1 1 1 1 1 1 1 1 1 1 1\n",
            " 1 1 1 1 1 1 1 1 1 1 1 1 1 1 1 1 1 1 1 1 1 1 1 1 1 1 1 1 1 1 1 1 1 1 1 1 1\n",
            " 1 1 1 1 1 1 1 1 1 1 1 1 1 1 1 0 0 0 0 0 0 0 0 0 0 0 0 0 0 0 0 0 0 0 0 0 0\n",
            " 0 0 0 0 0 0 0 0 0 0 0 0 0 0 0 0 0 0 0 0 0 0 0 0 0 0 0 0 0 0 0 0 0 0 0 0 0\n",
            " 0 0 0 0 0 0 0 0 0 0 0 0 0 0 0 0 0 0 0 0 0 0 0 0 0 0 0 0 0 0 0 0 0 0 0 0 0\n",
            " 0 0 0 0 0 0 0 0 0 0 0 0 0 0 0 0 0 0 0 0 0 0 0 0 0 0 0 0 0 0 0 0 0 0 0 0 0\n",
            " 0 0 0 0 0 0 0 0 0 0 0 0 0 0 0 0 0 0 0 0 0 0 0 0 0 0 0 0 0 0 0 0 0 0 0 0 0\n",
            " 0 0 0 0 0 0 0 0 0 0 0 0 0 0 0 0 0 0 0 0 0 0 0 0 0 0 0 0 0 0 0 0 0 0 0 0 0\n",
            " 0 0 0 0 0 0 0 0 0 0 0 0 0 0 0 0 0 0 0 0 0 0 0 0 0 0 0 0 0 0 0 0 0 0 0 0 0\n",
            " 0 0 0 0 0 0 0 0 0 0 0 0 0 0 0 0 0 0 0 0 0 0 0 0 0 0 0 0 0 0 0 0 0 0 0 0 0\n",
            " 0 0 0 0 0 0 0 0 0 0 0 0 0 0 0 0 0 0 0 0 0 0 0 0 0 0 0 0 0 0 0 0 0 0 0]\n",
            "(479,)\n"
          ],
          "name": "stdout"
        }
      ]
    },
    {
      "cell_type": "code",
      "metadata": {
        "id": "QzUNXEuDv_Gx"
      },
      "source": [
        "# Splitting the dataset into the Training set and Test set\n",
        "from sklearn.model_selection import train_test_split\n",
        "X_train, X_test, y_train, y_test = train_test_split(X, y, test_size = 0.20, random_state = 0)"
      ],
      "execution_count": 40,
      "outputs": []
    },
    {
      "cell_type": "code",
      "metadata": {
        "id": "2ALPhf3VwBYi",
        "colab": {
          "base_uri": "https://localhost:8080/"
        },
        "outputId": "06c3fcac-f62b-43da-af95-7f8443fbaa56"
      },
      "source": [
        "# Fitting Naive Bayes to the Training set\n",
        "from sklearn.naive_bayes import GaussianNB\n",
        "classifier = GaussianNB()\n",
        "classifier.fit(X_train, y_train)\n"
      ],
      "execution_count": 41,
      "outputs": [
        {
          "output_type": "execute_result",
          "data": {
            "text/plain": [
              "GaussianNB(priors=None, var_smoothing=1e-09)"
            ]
          },
          "metadata": {
            "tags": []
          },
          "execution_count": 41
        }
      ]
    },
    {
      "cell_type": "code",
      "metadata": {
        "id": "7lYmYcBewDLb"
      },
      "source": [
        "# Predicting the Test set results\n",
        "y_pred = classifier.predict(X_test)"
      ],
      "execution_count": 42,
      "outputs": []
    },
    {
      "cell_type": "code",
      "metadata": {
        "id": "loUmK7c4wEqx",
        "colab": {
          "base_uri": "https://localhost:8080/"
        },
        "outputId": "51d09f52-4852-4e2b-bc34-93f8ed0b2e25"
      },
      "source": [
        "# Making the Confusion Matrix\n",
        "from sklearn.metrics import confusion_matrix\n",
        "cm = confusion_matrix(y_test, y_pred)\n",
        "print('Confusion matrix: ')\n",
        "print(cm)"
      ],
      "execution_count": 43,
      "outputs": [
        {
          "output_type": "stream",
          "text": [
            "Confusion matrix: \n",
            "[[60  7]\n",
            " [ 7 22]]\n"
          ],
          "name": "stdout"
        }
      ]
    },
    {
      "cell_type": "code",
      "metadata": {
        "id": "wCUWktA2wGJ1",
        "colab": {
          "base_uri": "https://localhost:8080/"
        },
        "outputId": "583e6d17-d6b7-4348-bb1f-5601bfc5a458"
      },
      "source": [
        "# calculate Accuracy\n",
        "from sklearn.metrics import accuracy_score\n",
        "print('Accuracy: %.2f' % (accuracy_score(y_test, y_pred)*100))"
      ],
      "execution_count": 44,
      "outputs": [
        {
          "output_type": "stream",
          "text": [
            "Accuracy: 85.42\n"
          ],
          "name": "stdout"
        }
      ]
    },
    {
      "cell_type": "code",
      "metadata": {
        "id": "UOdu9iBIwILU",
        "colab": {
          "base_uri": "https://localhost:8080/"
        },
        "outputId": "aec6e50d-7f8b-473a-f661-b2b325976e7c"
      },
      "source": [
        "from sklearn.metrics import precision_score\n",
        "from sklearn.metrics import recall_score\n",
        "from sklearn.metrics import f1_score\n",
        "# calculate precision\n",
        "# Precision = TruePositives / (TruePositives + FalsePositives)\n",
        "precision = precision_score(y_test, y_pred, average='binary')\n",
        "print('Precision: %.3f' % (precision*100))"
      ],
      "execution_count": 45,
      "outputs": [
        {
          "output_type": "stream",
          "text": [
            "Precision: 75.862\n"
          ],
          "name": "stdout"
        }
      ]
    },
    {
      "cell_type": "code",
      "metadata": {
        "id": "F5cPG_e9wKwd",
        "colab": {
          "base_uri": "https://localhost:8080/"
        },
        "outputId": "8eab5442-f287-4a62-d5f1-6dfcb49f1389"
      },
      "source": [
        "# F-Measure = (2 * Precision * Recall) / (Precision + Recall)\n",
        "# calculate score\n",
        "score = f1_score(y_test, y_pred, average='binary')\n",
        "print('F-Measure: %.3f' % (score*100))"
      ],
      "execution_count": 46,
      "outputs": [
        {
          "output_type": "stream",
          "text": [
            "F-Measure: 75.862\n"
          ],
          "name": "stdout"
        }
      ]
    },
    {
      "cell_type": "code",
      "metadata": {
        "id": "Ijz2KnmywMH-",
        "colab": {
          "base_uri": "https://localhost:8080/"
        },
        "outputId": "fd05ec26-721d-406d-e1c0-c4c0acf53d30"
      },
      "source": [
        "# calculate recall\n",
        "# Recall = TruePositives / (TruePositives + FalseNegatives)\n",
        "recall = recall_score(y_test, y_pred, average='binary')\n",
        "print('Recall: %.3f' % (recall*100))"
      ],
      "execution_count": 47,
      "outputs": [
        {
          "output_type": "stream",
          "text": [
            "Recall: 75.862\n"
          ],
          "name": "stdout"
        }
      ]
    },
    {
      "cell_type": "code",
      "metadata": {
        "id": "46x-wMLjwNfA",
        "colab": {
          "base_uri": "https://localhost:8080/"
        },
        "outputId": "1f548eee-02fd-47e5-eded-efc2ab87a7ce"
      },
      "source": [
        "import pickle \n",
        "  \n",
        "# Save the trained model as a pickle string. \n",
        "saved_model = pickle.dumps(classifier) \n",
        "  \n",
        "# Load the pickled model \n",
        "model = pickle.loads(saved_model) \n",
        "  \n",
        "# Use the loaded pickled model to make predictions \n",
        "model.predict(X_test) "
      ],
      "execution_count": 48,
      "outputs": [
        {
          "output_type": "execute_result",
          "data": {
            "text/plain": [
              "array([1, 0, 1, 0, 0, 1, 1, 0, 1, 1, 0, 0, 0, 0, 0, 0, 1, 1, 0, 0, 0, 1,\n",
              "       0, 1, 0, 0, 0, 0, 0, 0, 1, 1, 0, 0, 0, 0, 1, 0, 0, 0, 1, 1, 0, 1,\n",
              "       0, 1, 0, 0, 0, 0, 0, 0, 0, 1, 0, 1, 0, 0, 0, 0, 0, 0, 0, 0, 0, 0,\n",
              "       0, 1, 0, 1, 0, 0, 0, 0, 0, 0, 0, 1, 0, 1, 0, 1, 0, 1, 1, 1, 0, 1,\n",
              "       0, 0, 0, 0, 0, 1, 0, 0])"
            ]
          },
          "metadata": {
            "tags": []
          },
          "execution_count": 48
        }
      ]
    },
    {
      "cell_type": "code",
      "metadata": {
        "id": "F9FhD2-rwO90",
        "colab": {
          "base_uri": "https://localhost:8080/"
        },
        "outputId": "edb36eeb-16e8-4641-d599-8470bd7f2820"
      },
      "source": [
        "# save the model to disk\n",
        "import joblib\n",
        "filename = 'naivebayes_modelNLP.sav'\n",
        "joblib.dump(classifier, filename)\n",
        " \n",
        "# some time later...\n",
        " \n",
        "# load the model from disk\n",
        "naive_bayes_model = joblib.load(filename)\n",
        "result = naive_bayes_model.score(X_test, y_test)\n",
        "print(result)"
      ],
      "execution_count": 49,
      "outputs": [
        {
          "output_type": "stream",
          "text": [
            "0.8541666666666666\n"
          ],
          "name": "stdout"
        }
      ]
    },
    {
      "cell_type": "code",
      "metadata": {
        "id": "Mjsp4hMywXeF",
        "colab": {
          "base_uri": "https://localhost:8080/"
        },
        "outputId": "426657da-ecaf-48a6-dae4-7d0bb7940656"
      },
      "source": [
        "Text = \"bad\" #@param {type:\"string\"}\n",
        "input_data = [text] \n",
        "  \n",
        "input_data = cv.transform(input_data).toarray()\n",
        "print(input_data)\n",
        "\n",
        "input_pred = classifier.predict(input_data)\n",
        "\n",
        "input_pred = input_pred.astype(int)\n",
        "\n",
        "\n",
        "if input_pred[0]==1:\n",
        "    print(\"Review is Positive\")\n",
        "else:\n",
        "    print(\"Review is Negative\")\n"
      ],
      "execution_count": 50,
      "outputs": [
        {
          "output_type": "stream",
          "text": [
            "[[0 0 0 ... 0 0 0]]\n",
            "Review is Positive\n"
          ],
          "name": "stdout"
        }
      ]
    },
    {
      "cell_type": "code",
      "metadata": {
        "id": "HTYXR7S1xe2z",
        "colab": {
          "base_uri": "https://localhost:8080/"
        },
        "outputId": "12f7d712-a7d0-43d7-a313-2301bbed1f10"
      },
      "source": [
        "import pickle \n",
        "print(\"[INFO] Saving model...\")\n",
        "# Save the trained model as a pickle string. \n",
        "saved_model=pickle.dump(classifier,open('/content/drive/My Drive/text.pkl', 'wb')) \n",
        "# Saving model to disk"
      ],
      "execution_count": 51,
      "outputs": [
        {
          "output_type": "stream",
          "text": [
            "[INFO] Saving model...\n"
          ],
          "name": "stdout"
        }
      ]
    },
    {
      "cell_type": "code",
      "metadata": {
        "id": "j4Jy_DXmx00h"
      },
      "source": [
        "# Load the pickled model \n",
        "model = pickle.load(open('/content/drive/My Drive/text.pkl','rb'))  \n",
        "# Use the loaded pickled model to make predictions "
      ],
      "execution_count": 52,
      "outputs": []
    },
    {
      "cell_type": "code",
      "metadata": {
        "id": "tv529TsKx_wX",
        "colab": {
          "base_uri": "https://localhost:8080/"
        },
        "outputId": "8fb38ca6-eff7-4252-9f6a-2353fe70bd58"
      },
      "source": [
        "!pip install streamlit"
      ],
      "execution_count": 1,
      "outputs": [
        {
          "output_type": "stream",
          "text": [
            "Requirement already satisfied: streamlit in /usr/local/lib/python3.7/dist-packages (0.84.0)\n",
            "Requirement already satisfied: astor in /usr/local/lib/python3.7/dist-packages (from streamlit) (0.8.1)\n",
            "Requirement already satisfied: protobuf!=3.11,>=3.6.0 in /usr/local/lib/python3.7/dist-packages (from streamlit) (3.12.4)\n",
            "Requirement already satisfied: base58 in /usr/local/lib/python3.7/dist-packages (from streamlit) (2.1.0)\n",
            "Requirement already satisfied: altair>=3.2.0 in /usr/local/lib/python3.7/dist-packages (from streamlit) (4.1.0)\n",
            "Requirement already satisfied: blinker in /usr/local/lib/python3.7/dist-packages (from streamlit) (1.4)\n",
            "Requirement already satisfied: packaging in /usr/local/lib/python3.7/dist-packages (from streamlit) (20.9)\n",
            "Requirement already satisfied: click<8.0,>=7.0 in /usr/local/lib/python3.7/dist-packages (from streamlit) (7.1.2)\n",
            "Requirement already satisfied: gitpython in /usr/local/lib/python3.7/dist-packages (from streamlit) (3.1.18)\n",
            "Requirement already satisfied: pillow>=6.2.0 in /usr/local/lib/python3.7/dist-packages (from streamlit) (7.1.2)\n",
            "Requirement already satisfied: attrs in /usr/local/lib/python3.7/dist-packages (from streamlit) (21.2.0)\n",
            "Requirement already satisfied: pydeck>=0.1.dev5 in /usr/local/lib/python3.7/dist-packages (from streamlit) (0.6.2)\n",
            "Requirement already satisfied: tzlocal in /usr/local/lib/python3.7/dist-packages (from streamlit) (1.5.1)\n",
            "Requirement already satisfied: watchdog; platform_system != \"Darwin\" in /usr/local/lib/python3.7/dist-packages (from streamlit) (2.1.3)\n",
            "Requirement already satisfied: numpy in /usr/local/lib/python3.7/dist-packages (from streamlit) (1.19.5)\n",
            "Requirement already satisfied: toml in /usr/local/lib/python3.7/dist-packages (from streamlit) (0.10.2)\n",
            "Requirement already satisfied: validators in /usr/local/lib/python3.7/dist-packages (from streamlit) (0.18.2)\n",
            "Requirement already satisfied: requests in /usr/local/lib/python3.7/dist-packages (from streamlit) (2.23.0)\n",
            "Requirement already satisfied: pandas>=0.21.0 in /usr/local/lib/python3.7/dist-packages (from streamlit) (1.1.5)\n",
            "Requirement already satisfied: tornado>=5.0 in /usr/local/lib/python3.7/dist-packages (from streamlit) (5.1.1)\n",
            "Requirement already satisfied: pyarrow; python_version < \"3.9\" in /usr/local/lib/python3.7/dist-packages (from streamlit) (3.0.0)\n",
            "Requirement already satisfied: python-dateutil in /usr/local/lib/python3.7/dist-packages (from streamlit) (2.8.1)\n",
            "Requirement already satisfied: cachetools>=4.0 in /usr/local/lib/python3.7/dist-packages (from streamlit) (4.2.2)\n",
            "Requirement already satisfied: six>=1.9 in /usr/local/lib/python3.7/dist-packages (from protobuf!=3.11,>=3.6.0->streamlit) (1.15.0)\n",
            "Requirement already satisfied: setuptools in /usr/local/lib/python3.7/dist-packages (from protobuf!=3.11,>=3.6.0->streamlit) (57.0.0)\n",
            "Requirement already satisfied: toolz in /usr/local/lib/python3.7/dist-packages (from altair>=3.2.0->streamlit) (0.11.1)\n",
            "Requirement already satisfied: jsonschema in /usr/local/lib/python3.7/dist-packages (from altair>=3.2.0->streamlit) (2.6.0)\n",
            "Requirement already satisfied: jinja2 in /usr/local/lib/python3.7/dist-packages (from altair>=3.2.0->streamlit) (2.11.3)\n",
            "Requirement already satisfied: entrypoints in /usr/local/lib/python3.7/dist-packages (from altair>=3.2.0->streamlit) (0.3)\n",
            "Requirement already satisfied: pyparsing>=2.0.2 in /usr/local/lib/python3.7/dist-packages (from packaging->streamlit) (2.4.7)\n",
            "Requirement already satisfied: typing-extensions>=3.7.4.0; python_version < \"3.8\" in /usr/local/lib/python3.7/dist-packages (from gitpython->streamlit) (3.7.4.3)\n",
            "Requirement already satisfied: gitdb<5,>=4.0.1 in /usr/local/lib/python3.7/dist-packages (from gitpython->streamlit) (4.0.7)\n",
            "Requirement already satisfied: ipywidgets>=7.0.0 in /usr/local/lib/python3.7/dist-packages (from pydeck>=0.1.dev5->streamlit) (7.6.3)\n",
            "Requirement already satisfied: ipykernel>=5.1.2; python_version >= \"3.4\" in /usr/local/lib/python3.7/dist-packages (from pydeck>=0.1.dev5->streamlit) (6.0.1)\n",
            "Requirement already satisfied: traitlets>=4.3.2 in /usr/local/lib/python3.7/dist-packages (from pydeck>=0.1.dev5->streamlit) (5.0.5)\n",
            "Requirement already satisfied: pytz in /usr/local/lib/python3.7/dist-packages (from tzlocal->streamlit) (2018.9)\n",
            "Requirement already satisfied: decorator>=3.4.0 in /usr/local/lib/python3.7/dist-packages (from validators->streamlit) (4.4.2)\n",
            "Requirement already satisfied: certifi>=2017.4.17 in /usr/local/lib/python3.7/dist-packages (from requests->streamlit) (2021.5.30)\n",
            "Requirement already satisfied: idna<3,>=2.5 in /usr/local/lib/python3.7/dist-packages (from requests->streamlit) (2.10)\n",
            "Requirement already satisfied: urllib3!=1.25.0,!=1.25.1,<1.26,>=1.21.1 in /usr/local/lib/python3.7/dist-packages (from requests->streamlit) (1.24.3)\n",
            "Requirement already satisfied: chardet<4,>=3.0.2 in /usr/local/lib/python3.7/dist-packages (from requests->streamlit) (3.0.4)\n",
            "Requirement already satisfied: MarkupSafe>=0.23 in /usr/local/lib/python3.7/dist-packages (from jinja2->altair>=3.2.0->streamlit) (2.0.1)\n",
            "Requirement already satisfied: smmap<5,>=3.0.1 in /usr/local/lib/python3.7/dist-packages (from gitdb<5,>=4.0.1->gitpython->streamlit) (4.0.0)\n",
            "Requirement already satisfied: jupyterlab-widgets>=1.0.0; python_version >= \"3.6\" in /usr/local/lib/python3.7/dist-packages (from ipywidgets>=7.0.0->pydeck>=0.1.dev5->streamlit) (1.0.0)\n",
            "Requirement already satisfied: ipython>=4.0.0; python_version >= \"3.3\" in /usr/local/lib/python3.7/dist-packages (from ipywidgets>=7.0.0->pydeck>=0.1.dev5->streamlit) (5.5.0)\n",
            "Requirement already satisfied: widgetsnbextension~=3.5.0 in /usr/local/lib/python3.7/dist-packages (from ipywidgets>=7.0.0->pydeck>=0.1.dev5->streamlit) (3.5.1)\n",
            "Requirement already satisfied: nbformat>=4.2.0 in /usr/local/lib/python3.7/dist-packages (from ipywidgets>=7.0.0->pydeck>=0.1.dev5->streamlit) (5.1.3)\n",
            "Requirement already satisfied: jupyter-client in /usr/local/lib/python3.7/dist-packages (from ipykernel>=5.1.2; python_version >= \"3.4\"->pydeck>=0.1.dev5->streamlit) (5.3.5)\n",
            "Requirement already satisfied: debugpy>=1.0.0 in /usr/local/lib/python3.7/dist-packages (from ipykernel>=5.1.2; python_version >= \"3.4\"->pydeck>=0.1.dev5->streamlit) (1.0.0)\n",
            "Requirement already satisfied: importlib-metadata<4; python_version < \"3.8.0\" in /usr/local/lib/python3.7/dist-packages (from ipykernel>=5.1.2; python_version >= \"3.4\"->pydeck>=0.1.dev5->streamlit) (3.10.1)\n",
            "Requirement already satisfied: ipython-genutils in /usr/local/lib/python3.7/dist-packages (from traitlets>=4.3.2->pydeck>=0.1.dev5->streamlit) (0.2.0)\n",
            "Requirement already satisfied: prompt-toolkit<2.0.0,>=1.0.4 in /usr/local/lib/python3.7/dist-packages (from ipython>=4.0.0; python_version >= \"3.3\"->ipywidgets>=7.0.0->pydeck>=0.1.dev5->streamlit) (1.0.18)\n",
            "Requirement already satisfied: simplegeneric>0.8 in /usr/local/lib/python3.7/dist-packages (from ipython>=4.0.0; python_version >= \"3.3\"->ipywidgets>=7.0.0->pydeck>=0.1.dev5->streamlit) (0.8.1)\n",
            "Requirement already satisfied: pexpect; sys_platform != \"win32\" in /usr/local/lib/python3.7/dist-packages (from ipython>=4.0.0; python_version >= \"3.3\"->ipywidgets>=7.0.0->pydeck>=0.1.dev5->streamlit) (4.8.0)\n",
            "Requirement already satisfied: pickleshare in /usr/local/lib/python3.7/dist-packages (from ipython>=4.0.0; python_version >= \"3.3\"->ipywidgets>=7.0.0->pydeck>=0.1.dev5->streamlit) (0.7.5)\n",
            "Requirement already satisfied: pygments in /usr/local/lib/python3.7/dist-packages (from ipython>=4.0.0; python_version >= \"3.3\"->ipywidgets>=7.0.0->pydeck>=0.1.dev5->streamlit) (2.6.1)\n",
            "Requirement already satisfied: notebook>=4.4.1 in /usr/local/lib/python3.7/dist-packages (from widgetsnbextension~=3.5.0->ipywidgets>=7.0.0->pydeck>=0.1.dev5->streamlit) (5.3.1)\n",
            "Requirement already satisfied: jupyter-core in /usr/local/lib/python3.7/dist-packages (from nbformat>=4.2.0->ipywidgets>=7.0.0->pydeck>=0.1.dev5->streamlit) (4.7.1)\n",
            "Requirement already satisfied: pyzmq>=13 in /usr/local/lib/python3.7/dist-packages (from jupyter-client->ipykernel>=5.1.2; python_version >= \"3.4\"->pydeck>=0.1.dev5->streamlit) (22.1.0)\n",
            "Requirement already satisfied: zipp>=0.5 in /usr/local/lib/python3.7/dist-packages (from importlib-metadata<4; python_version < \"3.8.0\"->ipykernel>=5.1.2; python_version >= \"3.4\"->pydeck>=0.1.dev5->streamlit) (3.4.1)\n",
            "Requirement already satisfied: wcwidth in /usr/local/lib/python3.7/dist-packages (from prompt-toolkit<2.0.0,>=1.0.4->ipython>=4.0.0; python_version >= \"3.3\"->ipywidgets>=7.0.0->pydeck>=0.1.dev5->streamlit) (0.2.5)\n",
            "Requirement already satisfied: ptyprocess>=0.5 in /usr/local/lib/python3.7/dist-packages (from pexpect; sys_platform != \"win32\"->ipython>=4.0.0; python_version >= \"3.3\"->ipywidgets>=7.0.0->pydeck>=0.1.dev5->streamlit) (0.7.0)\n",
            "Requirement already satisfied: nbconvert in /usr/local/lib/python3.7/dist-packages (from notebook>=4.4.1->widgetsnbextension~=3.5.0->ipywidgets>=7.0.0->pydeck>=0.1.dev5->streamlit) (5.6.1)\n",
            "Requirement already satisfied: Send2Trash in /usr/local/lib/python3.7/dist-packages (from notebook>=4.4.1->widgetsnbextension~=3.5.0->ipywidgets>=7.0.0->pydeck>=0.1.dev5->streamlit) (1.5.0)\n",
            "Requirement already satisfied: terminado>=0.8.1 in /usr/local/lib/python3.7/dist-packages (from notebook>=4.4.1->widgetsnbextension~=3.5.0->ipywidgets>=7.0.0->pydeck>=0.1.dev5->streamlit) (0.10.1)\n",
            "Requirement already satisfied: defusedxml in /usr/local/lib/python3.7/dist-packages (from nbconvert->notebook>=4.4.1->widgetsnbextension~=3.5.0->ipywidgets>=7.0.0->pydeck>=0.1.dev5->streamlit) (0.7.1)\n",
            "Requirement already satisfied: pandocfilters>=1.4.1 in /usr/local/lib/python3.7/dist-packages (from nbconvert->notebook>=4.4.1->widgetsnbextension~=3.5.0->ipywidgets>=7.0.0->pydeck>=0.1.dev5->streamlit) (1.4.3)\n",
            "Requirement already satisfied: bleach in /usr/local/lib/python3.7/dist-packages (from nbconvert->notebook>=4.4.1->widgetsnbextension~=3.5.0->ipywidgets>=7.0.0->pydeck>=0.1.dev5->streamlit) (3.3.0)\n",
            "Requirement already satisfied: testpath in /usr/local/lib/python3.7/dist-packages (from nbconvert->notebook>=4.4.1->widgetsnbextension~=3.5.0->ipywidgets>=7.0.0->pydeck>=0.1.dev5->streamlit) (0.5.0)\n",
            "Requirement already satisfied: mistune<2,>=0.8.1 in /usr/local/lib/python3.7/dist-packages (from nbconvert->notebook>=4.4.1->widgetsnbextension~=3.5.0->ipywidgets>=7.0.0->pydeck>=0.1.dev5->streamlit) (0.8.4)\n",
            "Requirement already satisfied: webencodings in /usr/local/lib/python3.7/dist-packages (from bleach->nbconvert->notebook>=4.4.1->widgetsnbextension~=3.5.0->ipywidgets>=7.0.0->pydeck>=0.1.dev5->streamlit) (0.5.1)\n"
          ],
          "name": "stdout"
        }
      ]
    },
    {
      "cell_type": "code",
      "metadata": {
        "id": "m6jOKuA-yBjP",
        "colab": {
          "base_uri": "https://localhost:8080/"
        },
        "outputId": "af1d3a80-76e7-44c0-88f6-3a9064ea1cad"
      },
      "source": [
        "!pip install pyngrok"
      ],
      "execution_count": 54,
      "outputs": [
        {
          "output_type": "stream",
          "text": [
            "Collecting pyngrok\n",
            "\u001b[?25l  Downloading https://files.pythonhosted.org/packages/6b/4e/a2fe095bbe17cf26424c4abcd22a0490e22d01cc628f25af5e220ddbf6f0/pyngrok-5.0.5.tar.gz (745kB)\n",
            "\r\u001b[K     |▍                               | 10kB 14.0MB/s eta 0:00:01\r\u001b[K     |▉                               | 20kB 18.0MB/s eta 0:00:01\r\u001b[K     |█▎                              | 30kB 22.3MB/s eta 0:00:01\r\u001b[K     |█▊                              | 40kB 26.1MB/s eta 0:00:01\r\u001b[K     |██▏                             | 51kB 28.2MB/s eta 0:00:01\r\u001b[K     |██▋                             | 61kB 30.2MB/s eta 0:00:01\r\u001b[K     |███                             | 71kB 29.8MB/s eta 0:00:01\r\u001b[K     |███▌                            | 81kB 30.4MB/s eta 0:00:01\r\u001b[K     |████                            | 92kB 30.3MB/s eta 0:00:01\r\u001b[K     |████▍                           | 102kB 31.1MB/s eta 0:00:01\r\u001b[K     |████▉                           | 112kB 31.1MB/s eta 0:00:01\r\u001b[K     |█████▎                          | 122kB 31.1MB/s eta 0:00:01\r\u001b[K     |█████▊                          | 133kB 31.1MB/s eta 0:00:01\r\u001b[K     |██████▏                         | 143kB 31.1MB/s eta 0:00:01\r\u001b[K     |██████▋                         | 153kB 31.1MB/s eta 0:00:01\r\u001b[K     |███████                         | 163kB 31.1MB/s eta 0:00:01\r\u001b[K     |███████▌                        | 174kB 31.1MB/s eta 0:00:01\r\u001b[K     |████████                        | 184kB 31.1MB/s eta 0:00:01\r\u001b[K     |████████▍                       | 194kB 31.1MB/s eta 0:00:01\r\u001b[K     |████████▉                       | 204kB 31.1MB/s eta 0:00:01\r\u001b[K     |█████████▎                      | 215kB 31.1MB/s eta 0:00:01\r\u001b[K     |█████████▊                      | 225kB 31.1MB/s eta 0:00:01\r\u001b[K     |██████████▏                     | 235kB 31.1MB/s eta 0:00:01\r\u001b[K     |██████████▌                     | 245kB 31.1MB/s eta 0:00:01\r\u001b[K     |███████████                     | 256kB 31.1MB/s eta 0:00:01\r\u001b[K     |███████████▍                    | 266kB 31.1MB/s eta 0:00:01\r\u001b[K     |███████████▉                    | 276kB 31.1MB/s eta 0:00:01\r\u001b[K     |████████████▎                   | 286kB 31.1MB/s eta 0:00:01\r\u001b[K     |████████████▊                   | 296kB 31.1MB/s eta 0:00:01\r\u001b[K     |█████████████▏                  | 307kB 31.1MB/s eta 0:00:01\r\u001b[K     |█████████████▋                  | 317kB 31.1MB/s eta 0:00:01\r\u001b[K     |██████████████                  | 327kB 31.1MB/s eta 0:00:01\r\u001b[K     |██████████████▌                 | 337kB 31.1MB/s eta 0:00:01\r\u001b[K     |███████████████                 | 348kB 31.1MB/s eta 0:00:01\r\u001b[K     |███████████████▍                | 358kB 31.1MB/s eta 0:00:01\r\u001b[K     |███████████████▉                | 368kB 31.1MB/s eta 0:00:01\r\u001b[K     |████████████████▎               | 378kB 31.1MB/s eta 0:00:01\r\u001b[K     |████████████████▊               | 389kB 31.1MB/s eta 0:00:01\r\u001b[K     |█████████████████▏              | 399kB 31.1MB/s eta 0:00:01\r\u001b[K     |█████████████████▋              | 409kB 31.1MB/s eta 0:00:01\r\u001b[K     |██████████████████              | 419kB 31.1MB/s eta 0:00:01\r\u001b[K     |██████████████████▌             | 430kB 31.1MB/s eta 0:00:01\r\u001b[K     |███████████████████             | 440kB 31.1MB/s eta 0:00:01\r\u001b[K     |███████████████████▍            | 450kB 31.1MB/s eta 0:00:01\r\u001b[K     |███████████████████▉            | 460kB 31.1MB/s eta 0:00:01\r\u001b[K     |████████████████████▎           | 471kB 31.1MB/s eta 0:00:01\r\u001b[K     |████████████████████▊           | 481kB 31.1MB/s eta 0:00:01\r\u001b[K     |█████████████████████           | 491kB 31.1MB/s eta 0:00:01\r\u001b[K     |█████████████████████▌          | 501kB 31.1MB/s eta 0:00:01\r\u001b[K     |██████████████████████          | 512kB 31.1MB/s eta 0:00:01\r\u001b[K     |██████████████████████▍         | 522kB 31.1MB/s eta 0:00:01\r\u001b[K     |██████████████████████▉         | 532kB 31.1MB/s eta 0:00:01\r\u001b[K     |███████████████████████▎        | 542kB 31.1MB/s eta 0:00:01\r\u001b[K     |███████████████████████▊        | 552kB 31.1MB/s eta 0:00:01\r\u001b[K     |████████████████████████▏       | 563kB 31.1MB/s eta 0:00:01\r\u001b[K     |████████████████████████▋       | 573kB 31.1MB/s eta 0:00:01\r\u001b[K     |█████████████████████████       | 583kB 31.1MB/s eta 0:00:01\r\u001b[K     |█████████████████████████▌      | 593kB 31.1MB/s eta 0:00:01\r\u001b[K     |██████████████████████████      | 604kB 31.1MB/s eta 0:00:01\r\u001b[K     |██████████████████████████▍     | 614kB 31.1MB/s eta 0:00:01\r\u001b[K     |██████████████████████████▉     | 624kB 31.1MB/s eta 0:00:01\r\u001b[K     |███████████████████████████▎    | 634kB 31.1MB/s eta 0:00:01\r\u001b[K     |███████████████████████████▊    | 645kB 31.1MB/s eta 0:00:01\r\u001b[K     |████████████████████████████▏   | 655kB 31.1MB/s eta 0:00:01\r\u001b[K     |████████████████████████████▋   | 665kB 31.1MB/s eta 0:00:01\r\u001b[K     |█████████████████████████████   | 675kB 31.1MB/s eta 0:00:01\r\u001b[K     |█████████████████████████████▌  | 686kB 31.1MB/s eta 0:00:01\r\u001b[K     |██████████████████████████████  | 696kB 31.1MB/s eta 0:00:01\r\u001b[K     |██████████████████████████████▍ | 706kB 31.1MB/s eta 0:00:01\r\u001b[K     |██████████████████████████████▉ | 716kB 31.1MB/s eta 0:00:01\r\u001b[K     |███████████████████████████████▏| 727kB 31.1MB/s eta 0:00:01\r\u001b[K     |███████████████████████████████▋| 737kB 31.1MB/s eta 0:00:01\r\u001b[K     |████████████████████████████████| 747kB 31.1MB/s \n",
            "\u001b[?25hRequirement already satisfied: PyYAML in /usr/local/lib/python3.7/dist-packages (from pyngrok) (3.13)\n",
            "Building wheels for collected packages: pyngrok\n",
            "  Building wheel for pyngrok (setup.py) ... \u001b[?25l\u001b[?25hdone\n",
            "  Created wheel for pyngrok: filename=pyngrok-5.0.5-cp37-none-any.whl size=19262 sha256=9105e23552cb758751dca9ae4e43e81815d0b97538135dd62a5330113d1b8898\n",
            "  Stored in directory: /root/.cache/pip/wheels/0c/13/64/5ebbcc22eaf53fdf5766b397c1fb17c83f5775fdccf0ea1b88\n",
            "Successfully built pyngrok\n",
            "Installing collected packages: pyngrok\n",
            "Successfully installed pyngrok-5.0.5\n"
          ],
          "name": "stdout"
        }
      ]
    },
    {
      "cell_type": "code",
      "metadata": {
        "id": "AbenncxDyRH4",
        "colab": {
          "base_uri": "https://localhost:8080/"
        },
        "outputId": "5403bd99-bb96-407c-ebbe-fcaf99120fa4"
      },
      "source": [
        "!ngrok authtoken 1uvt1s1dYk3c2EMejcAc7ezuWeC_7Kqcy2qKjes9NCR6S5jiY"
      ],
      "execution_count": 2,
      "outputs": [
        {
          "output_type": "stream",
          "text": [
            "Authtoken saved to configuration file: /root/.ngrok2/ngrok.yml\n"
          ],
          "name": "stdout"
        }
      ]
    },
    {
      "cell_type": "code",
      "metadata": {
        "id": "QWeJPOUgyodK",
        "colab": {
          "base_uri": "https://localhost:8080/"
        },
        "outputId": "32944fa0-2b32-47d6-cf12-874fc8c9d28a"
      },
      "source": [
        "%%writefile app.py\n",
        "import streamlit as st \n",
        "from PIL import Image\n",
        "import pickle\n",
        "import numpy as np\n",
        "import matplotlib.pyplot as plt\n",
        "import pandas as pd\n",
        "st.set_option('deprecation.showfileUploaderEncoding', False)\n",
        "# Load the pickled model\n",
        "model = pickle.load(open('/content/drive/My Drive/text.pkl','rb'))   \n",
        "\n",
        "\n",
        "def review(text):\n",
        "  dataset = pd.read_csv('/content/drive/My Drive/data.csv')\n",
        "  # First step: cleaning Text and removing number and punctuation marks.\n",
        "  # Cleaning the texts for all review using for loop\n",
        "  import re\n",
        "  import nltk\n",
        "  nltk.download('stopwords')\n",
        "  from nltk.corpus import stopwords\n",
        "  from nltk.stem.porter import PorterStemmer\n",
        "  corpus = []\n",
        "  for i in range(0, 1000):\n",
        "    review = re.sub('[^a-zA-Z]', ' ', dataset['text'][i])\n",
        "    review = review.lower()\n",
        "    review = review.split()\n",
        "    ps = PorterStemmer()\n",
        "    review = [ps.stem(word) for word in review if not word in set(stopwords.words('english'))]\n",
        "    review = ' '.join(review)\n",
        "    #print(review)\n",
        "    corpus.append(review)\n",
        "  # Creating the Bag of Words model\n",
        "  from sklearn.feature_extraction.text import CountVectorizer\n",
        "  cv = CountVectorizer(max_features = 1500)\n",
        "  #print(cv)\n",
        "  X = cv.fit_transform(corpus).toarray()\n",
        "  import re\n",
        "  review = re.sub('[^a-zA-Z]', ' ', text)\n",
        "  review=review.lower()\n",
        "  print(review)\n",
        "  # Third step: Removing stop words like 'this, the'\n",
        "  import nltk\n",
        "  nltk.download('stopwords')\n",
        "  from nltk.corpus import stopwords\n",
        "  review = review.split()\n",
        "  print(review)\n",
        "  # Third step: Removing stop words like 'this, the'\n",
        "   # set function is generally used for long article to fastem process\n",
        "  review1 = [word for word in review if not word in set(stopwords.words('english'))]\n",
        "  print(review1)\n",
        "  # Fourth step: converting stemming words\n",
        "  from nltk.stem.porter import PorterStemmer\n",
        "  ps = PorterStemmer()\n",
        "  review = [ps.stem(word) for word in review1 if not word in set(stopwords.words('english'))]\n",
        "  print(review)\n",
        "  # joining these words of list\n",
        "  review2 = ' '.join(review)\n",
        "  print(review2)\n",
        "  # Creating the Bag of Words model\n",
        "  \n",
        "  X = cv.transform(review).toarray()\n",
        "  input_pred = model.predict(X)\n",
        "  input_pred = input_pred.astype(int)\n",
        "  print(input_pred)\n",
        "  if input_pred[0]==1:\n",
        "    result= \"Review is Positive\"\n",
        "  else:\n",
        "    result=\"Review is negative\" \n",
        "\n",
        " \n",
        "    \n",
        "  return result\n",
        "html_temp = \"\"\"\n",
        "   <div class=\"\" style=\"background-color:blue;\" >\n",
        "   <div class=\"clearfix\">           \n",
        "   <div class=\"col-md-12\">\n",
        "   <center><p style=\"font-size:40px;color:white;margin-top:10px;\">Poornima Institute of Engineering & Technology</p></center> \n",
        "   <center><p style=\"font-size:30px;color:white;margin-top:10px;\">Department of Computer Engineering</p></center> \n",
        "   <center><p style=\"font-size:25px;color:white;margin-top:10px;\"Machine Learning Lab Experiment</p></center> \n",
        "   </div>\n",
        "   </div>\n",
        "   </div>\n",
        "   \"\"\"\n",
        "st.markdown(html_temp,unsafe_allow_html=True)\n",
        "st.header(\"Restaurant Review System \")\n",
        "  \n",
        "  \n",
        "text = st.text_area(\"Writre Review of Restaurant\")\n",
        "\n",
        "if st.button(\"Review Analysis\"):\n",
        "  result=review(text)\n",
        "  st.success('Model has predicted {}'.format(result))\n",
        "      \n",
        "if st.button(\"About\"):\n",
        "  st.subheader(\"Developed by Deepak Moud\")\n",
        "  st.subheader(\"Head , Department of Computer Engineering\")\n",
        "html_temp = \"\"\"\n",
        "   <div class=\"\" style=\"background-color:orange;\" >\n",
        "   <div class=\"clearfix\">           \n",
        "   <div class=\"col-md-12\">\n",
        "   <center><p style=\"font-size:20px;color:white;margin-top:10px;\">Machine learning Experiment No. 10</p></center> \n",
        "   </div>\n",
        "   </div>\n",
        "   </div>\n",
        "   \"\"\"\n",
        "st.markdown(html_temp,unsafe_allow_html=True)"
      ],
      "execution_count": 3,
      "outputs": [
        {
          "output_type": "stream",
          "text": [
            "Writing app.py\n"
          ],
          "name": "stdout"
        }
      ]
    },
    {
      "cell_type": "code",
      "metadata": {
        "id": "5ZyoGbHTzKCQ",
        "colab": {
          "base_uri": "https://localhost:8080/"
        },
        "outputId": "324e129c-e331-41b7-e00a-53c4846333e6"
      },
      "source": [
        "!nohup streamlit run  app.py &"
      ],
      "execution_count": 4,
      "outputs": [
        {
          "output_type": "stream",
          "text": [
            "nohup: appending output to 'nohup.out'\n"
          ],
          "name": "stdout"
        }
      ]
    },
    {
      "cell_type": "code",
      "metadata": {
        "id": "NgwGrd3pzRGV",
        "colab": {
          "base_uri": "https://localhost:8080/",
          "height": 415
        },
        "outputId": "6989f1b3-a352-4d6f-a05b-d525a03f597f"
      },
      "source": [
        "from pyngrok import ngrok\n",
        "url=ngrok.connect(port='8050')\n",
        "url"
      ],
      "execution_count": 6,
      "outputs": [
        {
          "output_type": "stream",
          "text": [
            "t=2021-07-06T09:08:23+0000 lvl=eror msg=\"failed to auth\" obj=tunnels.session err=\"Your account '2018pietcsrahul116@poornima.org' is limited to 1 simultaneous ngrok client session.\\nActive ngrok client sessions in region 'us':\\n  - ts_1uvyXMDNY80xfPg1lcRGAxEO777 (35.204.238.165)\\r\\n\\r\\nERR_NGROK_108\\r\\n\"\n"
          ],
          "name": "stderr"
        },
        {
          "output_type": "error",
          "ename": "PyngrokNgrokError",
          "evalue": "ignored",
          "traceback": [
            "\u001b[0;31m---------------------------------------------------------------------------\u001b[0m",
            "\u001b[0;31mPyngrokNgrokError\u001b[0m                         Traceback (most recent call last)",
            "\u001b[0;32m<ipython-input-6-b0ef1c1e03a4>\u001b[0m in \u001b[0;36m<module>\u001b[0;34m()\u001b[0m\n\u001b[1;32m      1\u001b[0m \u001b[0;32mfrom\u001b[0m \u001b[0mpyngrok\u001b[0m \u001b[0;32mimport\u001b[0m \u001b[0mngrok\u001b[0m\u001b[0;34m\u001b[0m\u001b[0;34m\u001b[0m\u001b[0m\n\u001b[0;32m----> 2\u001b[0;31m \u001b[0murl\u001b[0m\u001b[0;34m=\u001b[0m\u001b[0mngrok\u001b[0m\u001b[0;34m.\u001b[0m\u001b[0mconnect\u001b[0m\u001b[0;34m(\u001b[0m\u001b[0mport\u001b[0m\u001b[0;34m=\u001b[0m\u001b[0;34m'8050'\u001b[0m\u001b[0;34m)\u001b[0m\u001b[0;34m\u001b[0m\u001b[0;34m\u001b[0m\u001b[0m\n\u001b[0m\u001b[1;32m      3\u001b[0m \u001b[0murl\u001b[0m\u001b[0;34m\u001b[0m\u001b[0;34m\u001b[0m\u001b[0m\n",
            "\u001b[0;32m/usr/local/lib/python3.7/dist-packages/pyngrok/ngrok.py\u001b[0m in \u001b[0;36mconnect\u001b[0;34m(addr, proto, name, pyngrok_config, **options)\u001b[0m\n\u001b[1;32m    249\u001b[0m     \u001b[0moptions\u001b[0m\u001b[0;34m.\u001b[0m\u001b[0mupdate\u001b[0m\u001b[0;34m(\u001b[0m\u001b[0mconfig\u001b[0m\u001b[0;34m)\u001b[0m\u001b[0;34m\u001b[0m\u001b[0;34m\u001b[0m\u001b[0m\n\u001b[1;32m    250\u001b[0m \u001b[0;34m\u001b[0m\u001b[0m\n\u001b[0;32m--> 251\u001b[0;31m     \u001b[0mapi_url\u001b[0m \u001b[0;34m=\u001b[0m \u001b[0mget_ngrok_process\u001b[0m\u001b[0;34m(\u001b[0m\u001b[0mpyngrok_config\u001b[0m\u001b[0;34m)\u001b[0m\u001b[0;34m.\u001b[0m\u001b[0mapi_url\u001b[0m\u001b[0;34m\u001b[0m\u001b[0;34m\u001b[0m\u001b[0m\n\u001b[0m\u001b[1;32m    252\u001b[0m \u001b[0;34m\u001b[0m\u001b[0m\n\u001b[1;32m    253\u001b[0m     \u001b[0mlogger\u001b[0m\u001b[0;34m.\u001b[0m\u001b[0mdebug\u001b[0m\u001b[0;34m(\u001b[0m\u001b[0;34m\"Creating tunnel with options: {}\"\u001b[0m\u001b[0;34m.\u001b[0m\u001b[0mformat\u001b[0m\u001b[0;34m(\u001b[0m\u001b[0moptions\u001b[0m\u001b[0;34m)\u001b[0m\u001b[0;34m)\u001b[0m\u001b[0;34m\u001b[0m\u001b[0;34m\u001b[0m\u001b[0m\n",
            "\u001b[0;32m/usr/local/lib/python3.7/dist-packages/pyngrok/ngrok.py\u001b[0m in \u001b[0;36mget_ngrok_process\u001b[0;34m(pyngrok_config)\u001b[0m\n\u001b[1;32m    160\u001b[0m     \u001b[0minstall_ngrok\u001b[0m\u001b[0;34m(\u001b[0m\u001b[0mpyngrok_config\u001b[0m\u001b[0;34m)\u001b[0m\u001b[0;34m\u001b[0m\u001b[0;34m\u001b[0m\u001b[0m\n\u001b[1;32m    161\u001b[0m \u001b[0;34m\u001b[0m\u001b[0m\n\u001b[0;32m--> 162\u001b[0;31m     \u001b[0;32mreturn\u001b[0m \u001b[0mprocess\u001b[0m\u001b[0;34m.\u001b[0m\u001b[0mget_process\u001b[0m\u001b[0;34m(\u001b[0m\u001b[0mpyngrok_config\u001b[0m\u001b[0;34m)\u001b[0m\u001b[0;34m\u001b[0m\u001b[0;34m\u001b[0m\u001b[0m\n\u001b[0m\u001b[1;32m    163\u001b[0m \u001b[0;34m\u001b[0m\u001b[0m\n\u001b[1;32m    164\u001b[0m \u001b[0;34m\u001b[0m\u001b[0m\n",
            "\u001b[0;32m/usr/local/lib/python3.7/dist-packages/pyngrok/process.py\u001b[0m in \u001b[0;36mget_process\u001b[0;34m(pyngrok_config)\u001b[0m\n\u001b[1;32m    293\u001b[0m         \u001b[0;32mreturn\u001b[0m \u001b[0m_current_processes\u001b[0m\u001b[0;34m[\u001b[0m\u001b[0mpyngrok_config\u001b[0m\u001b[0;34m.\u001b[0m\u001b[0mngrok_path\u001b[0m\u001b[0;34m]\u001b[0m\u001b[0;34m\u001b[0m\u001b[0;34m\u001b[0m\u001b[0m\n\u001b[1;32m    294\u001b[0m \u001b[0;34m\u001b[0m\u001b[0m\n\u001b[0;32m--> 295\u001b[0;31m     \u001b[0;32mreturn\u001b[0m \u001b[0m_start_process\u001b[0m\u001b[0;34m(\u001b[0m\u001b[0mpyngrok_config\u001b[0m\u001b[0;34m)\u001b[0m\u001b[0;34m\u001b[0m\u001b[0;34m\u001b[0m\u001b[0m\n\u001b[0m\u001b[1;32m    296\u001b[0m \u001b[0;34m\u001b[0m\u001b[0m\n\u001b[1;32m    297\u001b[0m \u001b[0;34m\u001b[0m\u001b[0m\n",
            "\u001b[0;32m/usr/local/lib/python3.7/dist-packages/pyngrok/process.py\u001b[0m in \u001b[0;36m_start_process\u001b[0;34m(pyngrok_config, retries)\u001b[0m\n\u001b[1;32m    472\u001b[0m                 raise PyngrokNgrokError(\"The ngrok process errored on start: {}.\".format(ngrok_process.startup_error),\n\u001b[1;32m    473\u001b[0m                                         \u001b[0mngrok_process\u001b[0m\u001b[0;34m.\u001b[0m\u001b[0mlogs\u001b[0m\u001b[0;34m,\u001b[0m\u001b[0;34m\u001b[0m\u001b[0;34m\u001b[0m\u001b[0m\n\u001b[0;32m--> 474\u001b[0;31m                                         ngrok_process.startup_error)\n\u001b[0m\u001b[1;32m    475\u001b[0m         \u001b[0;32melse\u001b[0m\u001b[0;34m:\u001b[0m\u001b[0;34m\u001b[0m\u001b[0;34m\u001b[0m\u001b[0m\n\u001b[1;32m    476\u001b[0m             \u001b[0;32mraise\u001b[0m \u001b[0mPyngrokNgrokError\u001b[0m\u001b[0;34m(\u001b[0m\u001b[0;34m\"The ngrok process was unable to start.\"\u001b[0m\u001b[0;34m,\u001b[0m \u001b[0mngrok_process\u001b[0m\u001b[0;34m.\u001b[0m\u001b[0mlogs\u001b[0m\u001b[0;34m)\u001b[0m\u001b[0;34m\u001b[0m\u001b[0;34m\u001b[0m\u001b[0m\n",
            "\u001b[0;31mPyngrokNgrokError\u001b[0m: The ngrok process errored on start: Your account '2018pietcsrahul116@poornima.org' is limited to 1 simultaneous ngrok client session.\\nActive ngrok client sessions in region 'us':\\n  - ts_1uvyXMDNY80xfPg1lcRGAxEO777 (35.204.238.165)\\r\\n\\r\\nERR_NGROK_108\\r\\n."
          ]
        }
      ]
    },
    {
      "cell_type": "code",
      "metadata": {
        "id": "ZPm5E0u4zTO0",
        "colab": {
          "base_uri": "https://localhost:8080/"
        },
        "outputId": "2dd8bffe-eca7-4b50-95d3-095f6613381b"
      },
      "source": [
        "!streamlit run --server.port 80 app.py"
      ],
      "execution_count": 8,
      "outputs": [
        {
          "output_type": "stream",
          "text": [
            "\u001b[0m\n",
            "\u001b[34m\u001b[1m  You can now view your Streamlit app in your browser.\u001b[0m\n",
            "\u001b[0m\n",
            "\u001b[34m  Network URL: \u001b[0m\u001b[1mhttp://172.28.0.2:80\u001b[0m\n",
            "\u001b[34m  External URL: \u001b[0m\u001b[1mhttp://35.230.167.147:80\u001b[0m\n",
            "\u001b[0m\n",
            "\u001b[34m  Stopping...\u001b[0m\n",
            "\u001b[34m  Stopping...\u001b[0m\n"
          ],
          "name": "stdout"
        }
      ]
    },
    {
      "cell_type": "code",
      "metadata": {
        "id": "HJvCkl-OzV2l"
      },
      "source": [
        ""
      ],
      "execution_count": null,
      "outputs": []
    }
  ]
}